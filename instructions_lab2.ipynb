{
 "cells": [
  {
   "cell_type": "markdown",
   "id": "e8deb7a4",
   "metadata": {},
   "source": [
    "   # Laboratoire 2 ele8702 \n",
    "   ## Hiver 2023"
   ]
  },
  {
   "cell_type": "markdown",
   "id": "e32487da",
   "metadata": {},
   "source": [
    "## Introduction"
   ]
  },
  {
   "cell_type": "markdown",
   "id": "b99e0ba2",
   "metadata": {},
   "source": [
    "Ce Laboratoire est la continuation du Lab 1.\n",
    "\n",
    "Dans la 5G nous avons des antennes et des UEs (user equipment). Chaque UE \"actif\" doit d'abord s'associer à une antenne pour pouvoir initier la transmission de l'information. Le critère d'association est relié à la valeur de la perte en espace libre (pathloss) entre l'antenne et le UE. Dans ce laboratoire, nous allons considérer que chaque UE doit s'associer avec l'antenne avec laquelle la valeur de perte en espace libre est minimale.  \n",
    "\n",
    "**On vous demande de developper un programme Python qui va simuler une partie du processus d'association des UE avec les antennes** tel que décrit ci-dessus. Dans ce deuxième laboratoire nous allons considérer les formules du 3GPP (voir [ici](https://www.etsi.org/deliver/etsi_tr/138900_138999/138901/16.01.00_60/tr_138901v160100p.pdf) sections 7.4.1 et 7.4.2).\n",
    "\n",
    "\n"
   ]
  },
  {
   "cell_type": "markdown",
   "id": "88d61232",
   "metadata": {},
   "source": [
    "## Énoncé du problème"
   ]
  },
  {
   "cell_type": "markdown",
   "id": "7e97bced",
   "metadata": {},
   "source": [
    "Nous avons un terrain rectangulaire de dimension spécifié par l'usager du programme. Il est important que votre programme vérifie que les distances respectent les limites des formules du 3GPP.  Nous devons placer sur ce terrain un certain nombre d'antennes et de UEs spécifié dans le fichier de cas. Toutes les antennes qui seront placées sur le terrain sont du même type (appartiennent au même groupe). Par contre, les UEs peuvent être de type différent. Chaque type de UE est caractérisé par l'application qu'il contient (app1 ou app2). Votre fichier de cas doit spécifier un minimum de deux types de UE. Nous avons une base de données (fichier ```devices_db.yaml```) qui spécifie les caractéristiques des différents types d'équipements (antennes et UEs). Cette base de données est la même que dans le Lab 1. \n",
    "\n",
    "Remarquez que dans ce laboratoire nous introduisons la notion de LoS et NLoS. Donc, certains UEs se trouvent dans une situation NLoS par rapport à certaines antennes. "
   ]
  },
  {
   "cell_type": "markdown",
   "id": "916d9174",
   "metadata": {},
   "source": [
    "## Objectifs\n",
    "- Simuler l'association des UEs aux antennes dans un réseau 5G \n",
    "    - Se familiariser avec les formules de pertes en espace libre du 3GPP pour les réseaux 5G\n",
    "    - Augmenter les capacités du programme développé dans le Lab1 en :\n",
    "        - substituant les formules de pathloss du Laboratoire 1 par les formules du document 3GPP mentionné ci-haut\n",
    "        - introduisant la notion de LoS et NLoS dans les calculs\n",
    "        - ajoutant les fonctionnalités de lecture et d'écriture des fichiers de coordonnées\n",
    "        "
   ]
  },
  {
   "cell_type": "markdown",
   "id": "0cd70513",
   "metadata": {},
   "source": [
    "## Méthodologie\n",
    "\n",
    "1. Placer toutes les fonctions de pathloss du 3GPP dans un fichier ```.py``` séparé . Ce fichier doit être importé dans votre programme Python en utilisant l'instruction ```import```\n",
    "\n",
    "2. Faire tourner votre programme en activant l'option ```write: ficher_coordonnees.txt``` du fichier de cas (sans activer l'option ```read```). Le fichier produit va être identifié comme étant **le fichier de coordonnées**. Ce fichier doit **obligatoirement** avoir 5 colonnes par ligne dans le cas des antennes ou 6 dans le cas des UEs . \n",
    "\n",
    "La première colonne doit indiquer le type de dispositif (antenna ou ue). La deuxième l'ID du dispositif. La troisième le groupe auquel le dispositif appartient (voir fichier ```devices_db.yaml```). Les deux prochaines colonnes correspondent aux coordonnées x et y du dispositif. Dans le cas des UEs la colonne additionnelle identifie le type d'application de l'UE. \n",
    "\n",
    "Un exemple du format du fichier de coordonnées est donné ci-dessous.\n",
    "\n",
    "\n",
    "\n",
    "```\n",
    "\n",
    "antenna\t0\tAntenna1\t500.0\t500.0\n",
    "antenna\t1\tAntenna1\t1000.0\t500.0\n",
    "antenna\t2\tAntenna1\t1500.0\t500.0\n",
    "               .\n",
    "               .\n",
    "               .\n",
    "ue\t0\tUE1-App1\t2643.912635575393\t3429.898662650162\tapp1\n",
    "ue\t1\tUE1-App1\t4996.943733877901\t488.8501213011337\tapp1\n",
    "ue\t2\tUE1-App1\t2632.0666651148895\t3196.508185211312\tapp1\n",
    "               .\n",
    "               .\n",
    "               .\n",
    "ue\t30\tUE2-App2\t1548.1831428708958\t3911.74199512333\tapp2\n",
    "ue\t31\tUE2-App2\t2389.7910827080086\t1133.512853290521\tapp2\n",
    "ue\t32\tUE2-App2\t3332.93433399287\t4780.309003636165\tapp2\n",
    "```\n",
    "              \n",
    "\n",
    "3. Une fois le fichier de coordonées produit commme indiqué au point 2, exécutez votre programme avec l'option ```read: ficher_coordonnees.txt``` active. L'option ```write``` doit  être nactive. \n",
    "\n",
    "4. Maintenant, votre programme doit être capable de: \n",
    "\n",
    "    - lire le fichier de coordonnées créé au point 2 \n",
    "    - considérer le scénario spécifié dans le fichier de cas\n",
    "    - considérer la situation NLoS décrite dans le fichier de visibilité (voir format et example ci-dessous)\n",
    "    - faire les **calculs** de pathloss 3GPP pour toutes les combinaisons UEs-antennes.\n",
    "    - faire **l'association** UEs-antennes en utilisant les formules du pathloss 3GPP."
   ]
  },
  {
   "cell_type": "markdown",
   "id": "a2c61190",
   "metadata": {},
   "source": [
    "### Données d'entrée\n",
    "- Voici les données d'entrée: \n",
    "\n",
    "    - **fichier de cas**:\n",
    "       - créé pour chaque cas en étude (un exemple montrant le format est donné ci dessous)     \n",
    "        \n",
    "    - **base de donnée des équipements (fichier ```devices_db.yaml```)**:\n",
    "       - elle est unique pour tous les cas d'étude. Voir Lab1. \n",
    "       \n",
    "    - **fichier de visibilité** (le nom est specifié dans le ```read``` de la section ```VISIBILITY``` du fichier de cas)\n",
    "       - un exemple de ce fichier est donné ci-dessous"
   ]
  },
  {
   "cell_type": "markdown",
   "id": "f5d4a9d5",
   "metadata": {},
   "source": [
    "### Exemple de format d'un fichier de cas"
   ]
  },
  {
   "cell_type": "markdown",
   "id": "f2699e47",
   "metadata": {},
   "source": [
    "```python\n",
    "--- # cas8.yaml\n",
    "###############################################\n",
    "#                                             #\n",
    "#         Cas 8:                              #\n",
    "#            File: cas8.yaml                  #\n",
    "#            Description: Etude important     #\n",
    "#                                             #\n",
    "###############################################\n",
    "# En .yaml, pour désactiver un champs, le mettre comme commentaire\n",
    "ETUDE_IMPORTANT:\n",
    "   SCENARIO : Uma\n",
    "   ANT_COORD_GEN : g\n",
    "   UE_COORD_GEN: a\n",
    "   COORD_FILES:  # Utilisé quand les coordonées sont lues à partir d'un fichier.\n",
    "      read: data/coordonnees_case9.txt # actif quand on lis le fichier de coordonnées\n",
    "      #write: data/coordonnees_case9.txt   # actif quand on veut écrire les résultats dans un fichier\n",
    "   DEVICES:\n",
    "      Antenna1 : # Group Antenna1 (comme défini dans la base de données)\n",
    "         number : 25\n",
    "      UE1-App1 :# Group UE1-App1 (comme défini dans la base de données)\n",
    "         number : 30\n",
    "      UE2-App2 : # Group UE2-App2 (comme défini dans la base de données)\n",
    "         number: 20\n",
    "   VISIBILITY : # read nlos information\n",
    "      read: visibility1.txt \n",
    "   GEOMETRY:\n",
    "      Surface:\n",
    "         rectangle:\n",
    "           length : 5000 # en mètres\n",
    "           heigth : 4000\n",
    "```"
   ]
  },
  {
   "cell_type": "markdown",
   "id": "ac428ba6",
   "metadata": {},
   "source": [
    "Dans le fichier montré, les changements par rapport au Lab 1 sont les suivants. \n",
    "\n",
    "On se sert maintenant du champs:"
   ]
  },
  {
   "cell_type": "markdown",
   "id": "5c86d326",
   "metadata": {},
   "source": [
    "```python\n",
    " CORD_FILES:\n",
    "     #read:  data/coordonnees1.txt #lis les coordonnées des dispositifs à partir du fichier de coordonnées \n",
    "     write: data/coordonnees1.txt  # écris le fichier des coordonnées\n",
    "```"
   ]
  },
  {
   "cell_type": "markdown",
   "id": "4c4ff850",
   "metadata": {},
   "source": [
    "On ajoute également:"
   ]
  },
  {
   "cell_type": "markdown",
   "id": "bdb2c87c",
   "metadata": {},
   "source": [
    "```python\n",
    "  VISIBILITY : # read nlos information\n",
    "      read: visibility1.txt\n",
    "```"
   ]
  },
  {
   "cell_type": "markdown",
   "id": "9601dfdb",
   "metadata": {},
   "source": [
    "Le format du fichier de visibilité est le suivant:\n",
    "\n",
    "    Pour chaque ligne, la première colonne donne l'ID de l'UE et les autres colonnes donnent les IDs des antennes avec lesquelles ce UE n'a pas de visibilité en ligne de vue (situation NLoS)."
   ]
  },
  {
   "cell_type": "markdown",
   "id": "ee1499fd",
   "metadata": {},
   "source": [
    "### Exemple de fichier de visibilité"
   ]
  },
  {
   "cell_type": "markdown",
   "id": "8552ab20",
   "metadata": {},
   "source": [
    "```python\n",
    "23 1 5 9 13 16\n",
    "14 8 9\n",
    "6 4 10\n",
    "11 7 20\n",
    "```"
   ]
  },
  {
   "cell_type": "markdown",
   "id": "2df524dc",
   "metadata": {},
   "source": [
    "Dans l'exemple ci-dessus, l'UE 6 est en situation de NLoS avec les antennes 4 et 10. \n",
    "\n",
    "Notez que **tous les UEs qui ne sont pas spécifiés dans le fichier de visibilité sont en ligne de vue (LoS) avec toutes les antennes**"
   ]
  },
  {
   "cell_type": "markdown",
   "id": "54c61283",
   "metadata": {},
   "source": [
    "## Livrables"
   ]
  },
  {
   "cell_type": "markdown",
   "id": "c02c2288",
   "metadata": {},
   "source": [
    "1. Le livrable principale de ce Laboratoire est **le programme python** qui doit être capable de:\n",
    "      - Créer un fichier de coordonnées\n",
    "      - Lire un fichier de coordonnées\n",
    "      - Traiter des scénarios de propagation du 3GPP (UMi, UMa, etc.)\n",
    "      - Faire des calculs de pathloss basés sur ces scénarios\n",
    "      - Pour chaque UE, montrer l'antenne associée\n",
    "      - Pour chaque antenne, montrer la liste des UEs qu'y sont associés.\n",
    "      \n",
    "    Ce livrable doit être remis dans un Jupyter Notebook en suivant les instructions déjà données dans le Lab1. Changez le terme \"lab1\" par \"lab2\" dans les noms des fichiers et fonctions."
   ]
  },
  {
   "cell_type": "markdown",
   "id": "0b71fe14",
   "metadata": {},
   "source": [
    "2. Le module python qui fait les calculs de pathloss du 3GPP. Veillez l'appeler ```calcul_pathloss_3gpp_eqn.py```"
   ]
  },
  {
   "cell_type": "markdown",
   "id": "cc5fc188",
   "metadata": {},
   "source": [
    "3. Pour un scénario de votre choix (voir Note 2 ci-dessous), vous devez fournir les livrables suivants:\n",
    "\n",
    "    - le fichier de cas utilisé, appelé ```cas_lab2_eqn.yaml```\n",
    "    - le fichier de coordonnées, appelé ```coords_lab2_eqn.txt``` (voir format dans section méthodologie)\n",
    "    - le fichier de visibilité, appelé ```visibility_lab2_eqn.txt``` (voir format dans exemple ci-dessus)\n",
    "    - un fichier d'association, appelé ```assoc_ant_lab2_eqn.txt``` qui montre pour chaque antenne, la liste des UEs associées (voir format dans livrables Lab1)\n",
    "    - un fichier d'association, appelé ```assoc_ue_lab2_eqn.txt``` qui montre pour chaque UE, l'antenne associé\n",
    "    - le fichier de pathloss, appelé ```pl_lab2_eqn.txt```  qui montre le pathloss pour chaque UE et antenne  (voir format dans livrables Lab1)\n",
    "    "
   ]
  },
  {
   "cell_type": "markdown",
   "id": "9de3e747",
   "metadata": {},
   "source": [
    "## Barême d'évaluation"
   ]
  },
  {
   "cell_type": "markdown",
   "id": "6c67f626",
   "metadata": {},
   "source": [
    "1. Clarté des instructions pour faire tourner le programme------> 7.5%\n",
    "2. Clarté des commentaires du programme-------------------------> 7.5%\n",
    "3. Présentation et suivi des consignes--------------------------------> 7.5%\n",
    "4. Justesse de l'approche et des résultats---------------------------> 40%\n",
    "5. Flexibilité, fiabilité et robustesse du programme----------------> 30%\n",
    "7. Conclusions--------------------------------------------------------------> 7.5%"
   ]
  },
  {
   "cell_type": "markdown",
   "id": "21cd1c82",
   "metadata": {},
   "source": [
    "## Notes:"
   ]
  },
  {
   "cell_type": "markdown",
   "id": "6e169a53",
   "metadata": {},
   "source": [
    "1. Au moment de construire votre fichier de visibilité, considérer qu'au moins 5% et au plus 30% des UEs sont en NLoS avec une ou plusieurs antennes"
   ]
  },
  {
   "cell_type": "markdown",
   "id": "6a115a4f",
   "metadata": {},
   "source": [
    "2. Votre programme sera testé avec plusieurs scénarios"
   ]
  },
  {
   "cell_type": "markdown",
   "id": "ef46a1c2",
   "metadata": {},
   "source": [
    "3. Assigner  les ID numériques des dispositifs de façon contigue à partir de 0 "
   ]
  },
  {
   "cell_type": "markdown",
   "id": "79c9c1db",
   "metadata": {},
   "source": [
    "4. Il est **très important** de donner des noms significatifs aux fonctions de propagation dans votre module de calcul de pathloss 3gpp. Voici des exemples:"
   ]
  },
  {
   "cell_type": "markdown",
   "id": "e837392b",
   "metadata": {},
   "source": [
    "``` python\n",
    "# -------------------------------------------------\n",
    "#     RMa-NLOS\n",
    "# -------------------------------------------------\n",
    "\n",
    "def _rma_nlosp(arg1, arg2, etc):\n",
    "                     # ....\n",
    "                     # ....\n",
    "                     pl = ....\n",
    "    return pl\n",
    "\n",
    "def rma_nlos(arg1, arg2, etc):\n",
    "                     # ....\n",
    "                     # ....\n",
    "                     pl = ....\n",
    "    return pl\n",
    "```\n"
   ]
  },
  {
   "cell_type": "markdown",
   "id": "0b8199c4",
   "metadata": {},
   "source": [
    "``` python\n",
    "\n",
    "# -------------------------------------------------\n",
    "#     UMa-LOS\n",
    "# -------------------------------------------------\n",
    "\n",
    "def uma_los(arg1, arg2, etc):\n",
    "\n",
    "    def _uma_los_pl1(arg1, arg2, etc):\n",
    "                     # ....\n",
    "                     # ....\n",
    "                     pl = ....\n",
    "        return pl\n",
    "\n",
    "    def _uma_los_pl2(arg1, arg2, etc):\n",
    "                     # ....\n",
    "                     # ....\n",
    "                     pl = ....\n",
    "        return pl\n",
    "```"
   ]
  },
  {
   "cell_type": "code",
   "execution_count": null,
   "id": "d82a0c2b",
   "metadata": {},
   "outputs": [],
   "source": []
  }
 ],
 "metadata": {
  "kernelspec": {
   "display_name": "Python 3",
   "language": "python",
   "name": "python3"
  },
  "language_info": {
   "codemirror_mode": {
    "name": "ipython",
    "version": 3
   },
   "file_extension": ".py",
   "mimetype": "text/x-python",
   "name": "python",
   "nbconvert_exporter": "python",
   "pygments_lexer": "ipython3",
   "version": "3.11.0"
  },
  "vscode": {
   "interpreter": {
    "hash": "fc55112b20804035bfd881a12599d8dc5cc805a77e4cc0669670d45ba057a7e8"
   }
  }
 },
 "nbformat": 4,
 "nbformat_minor": 5
}
