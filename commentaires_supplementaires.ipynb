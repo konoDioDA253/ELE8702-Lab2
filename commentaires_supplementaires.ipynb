{
 "cells": [
  {
   "cell_type": "markdown",
   "id": "cca1515c",
   "metadata": {},
   "source": [
    "# Notes supplémentaires avant remise du Lab2"
   ]
  },
  {
   "cell_type": "markdown",
   "id": "c24435b7",
   "metadata": {},
   "source": [
    "Ces notes sont fournies suite à la correction du Lab1 pour éviter les mêmes types d'erreurs dans le Lab2 et les Labos subséquents ainsi que pour faciliter leur remise et correction. La plupart des commentaires ci-dessous sont **déjà** dans les instructions des Labos, mais ils n'ont pas été considérés par certaines équipes."
   ]
  },
  {
   "cell_type": "markdown",
   "id": "68a8a50d",
   "metadata": {},
   "source": [
    "## 1.- Informations sur le labo et l'équipe"
   ]
  },
  {
   "cell_type": "markdown",
   "id": "2c031bf9",
   "metadata": {},
   "source": [
    "Le numéro du laboratoire, le numéro de l'équipe, les membres de l'équipe ainsi que\n",
    "leur matricule doivent apparaître au début du Notebook.\n"
   ]
  },
  {
   "cell_type": "markdown",
   "id": "b652cc00",
   "metadata": {},
   "source": [
    "## 2.- Respect des consignes"
   ]
  },
  {
   "cell_type": "markdown",
   "id": "4eb5f16e",
   "metadata": {},
   "source": [
    "Respectez **strictement** les consignes. J'utilise un programme de correction qui prend vos sorties et fonctions et vérifie des éléments. Si les consignes ne sont pas respectées, il peut être impossible de vérifier certains élements."
   ]
  },
  {
   "cell_type": "markdown",
   "id": "3a1fd8fd",
   "metadata": {},
   "source": [
    "### Formats de sortie"
   ]
  },
  {
   "cell_type": "markdown",
   "id": "fe57f137",
   "metadata": {},
   "source": [
    "Portez une attention particulière aux formats de sortie. Ils doivent être **exactement** comme il est demandé. Ne pas ajouter des éléments même s'ils le rendent plus lisibles car cela peut créer des problème d'incompatibilité avec le programme de correction."
   ]
  },
  {
   "cell_type": "markdown",
   "id": "c06ed104",
   "metadata": {},
   "source": [
    "### Utilisation de \"dataframes''"
   ]
  },
  {
   "cell_type": "markdown",
   "id": "87613c8a",
   "metadata": {},
   "source": [
    "Ceux qui sont à l'aise avec les pandas et la manipulation de dataframes peuvent les utiliser, **en autant que toutes les consignes et les formats de sortie soient scrupuleusement respectés**."
   ]
  },
  {
   "cell_type": "markdown",
   "id": "0f80bfd7",
   "metadata": {},
   "source": [
    "## 3.- Objectifs atteints"
   ]
  },
  {
   "cell_type": "markdown",
   "id": "622541dd",
   "metadata": {},
   "source": [
    "Pour chaque Laboratoire il est supposé que le programme maîtrise les objectifs\n",
    "du Labo précédent. Par exemple, pour le Lab2 et subséquents, le programme\n",
    "doit être capable de faire l'association UE-Antennes."
   ]
  },
  {
   "cell_type": "markdown",
   "id": "f293e072",
   "metadata": {},
   "source": [
    "### Modularité des programmes"
   ]
  },
  {
   "cell_type": "markdown",
   "id": "1bd76d79",
   "metadata": {},
   "source": [
    "Il est très important que votre programme soit modulaire afin de profiter\n",
    "des fonctions développées dans le laboratoires précédents. Toutefois vous\n",
    "êtes toujours libres de modifier votre code pour chaque laboratoire. "
   ]
  },
  {
   "cell_type": "markdown",
   "id": "b27fa680",
   "metadata": {},
   "source": [
    "## 4.- Spécificités"
   ]
  },
  {
   "cell_type": "markdown",
   "id": "23992264",
   "metadata": {},
   "source": [
    "### Noms alternatifs des fichiers de sortie"
   ]
  },
  {
   "cell_type": "markdown",
   "id": "9b523418",
   "metadata": {},
   "source": [
    "Quand on demande les noms des fichiers que l'utilisateur veut donner\n",
    "aux sorties, le message lui-même doit indiquer quel est le nom du fichier\n",
    "par défaut et donner aussi l'option de ne pas écrire un nouveau nom."
   ]
  },
  {
   "cell_type": "markdown",
   "id": "0c4420b3",
   "metadata": {},
   "source": [
    "### Lecture des fichiers d'entrée"
   ]
  },
  {
   "cell_type": "markdown",
   "id": "cd5355db",
   "metadata": {},
   "source": [
    "Les programmes doivent être capables de lire l'information contenue\n",
    "dans les fichiers de cas et autres fichiers d'entrées. Ces informations\n",
    "ne doivent pas être \"hard-wired\" dans le programme."
   ]
  },
  {
   "cell_type": "markdown",
   "id": "5b9d0237",
   "metadata": {},
   "source": [
    "### Lecture des fichiers de coordonées"
   ]
  },
  {
   "cell_type": "markdown",
   "id": "dd241d8f",
   "metadata": {},
   "source": [
    "Lorsqu'on demande la lecture d'un fichier de coordonnées (lorsque le\n",
    "read de la section COORD_FILES est actif), le programme doit nécéssairement\n",
    "utiliser les coordonnées fournies par le fichier et pas refaire le calcul\n",
    "de coordonnées."
   ]
  },
  {
   "cell_type": "markdown",
   "id": "51721582",
   "metadata": {},
   "source": [
    "### Écriture des fichiers de coordonées"
   ]
  },
  {
   "cell_type": "markdown",
   "id": "af6a5eda",
   "metadata": {},
   "source": [
    "Le fichier produit par l'option write de la section COORD_FILES doit créer un fichier\n",
    "de coordonnées qui puisse être lu postérieurement par l'activation du read\n",
    "de la même section."
   ]
  },
  {
   "cell_type": "markdown",
   "id": "e29ce6c9",
   "metadata": {},
   "source": [
    "### Association UE antenne"
   ]
  },
  {
   "cell_type": "markdown",
   "id": "56ecdd4d",
   "metadata": {},
   "source": [
    "Il faut remarquer que dans le Lab2 il faut non seulement trouver\n",
    "l'association antenne - UE comme dans le Lab1, mais aussi l'association UE - antenne\n",
    "(c-à-d que chaque objet UE doit remplir l'attribut assoc_ant). Voir \n",
    "mon courriel dont le sujet est ele8702-lab 2 Hauteurs et Fréquences (2/7/23).\n",
    "\n",
    "Le fichier assoc_ue_lab2_eqn.txt (voir Livrable 3, Lab2) doit avoir 2 colonnes\n",
    "par ligne et autant de lignes que des UEs. La première colonne doit montrer l'id de l'UE et la deuxième l'id de \n",
    "l'antenne associée. Par exemple les deux lignes ci-dessous\n",
    "\n",
    "0 15<br>\n",
    "1 18\n",
    "\n",
    "indiquent que le UE 0 est associé à l'antenne 15 et le UE 1 à l'antenne 18. Ne pas ajouter d'autres\n",
    "informations."
   ]
  },
  {
   "cell_type": "markdown",
   "id": "948cfefc",
   "metadata": {},
   "source": [
    "### Fonctions appelées par le programme de correction"
   ]
  },
  {
   "cell_type": "markdown",
   "id": "4ad5cb69",
   "metadata": {},
   "source": [
    "La fonction labm_eqn(arg) ainsi que la fonction labm()(m= numéro de laboratoire\n",
    " et n= numéro de l'équipe) sont appelées par mon programme\n",
    " de correction. Il est donc très important de bien respecter l'interface\n",
    " de ces deux fonctions.\n",
    " \n",
    " labm() doit appeler tout le programme, ne pas avoir d'arguments et être\n",
    " située **toute seule** dans la dernière cellule du Notebook.\n",
    " \n",
    " labm_eqn(arg) peut avoir **au maximum** un argument, par exemple, le dictionnaire\n",
    " du fichier de cas. La sortie doit être **obligatoirement** une tuple de la forme\n",
    " (antennas, ues) où antennas est une liste qui contient tous les objets\n",
    " de type Antenna et ues est une liste qui contient tous les objets de type\n",
    " et UE."
   ]
  },
  {
   "cell_type": "markdown",
   "id": "a073309b",
   "metadata": {},
   "source": [
    "### Numérotation d'Antennes et UEs"
   ]
  },
  {
   "cell_type": "markdown",
   "id": "f330b1f6",
   "metadata": {},
   "source": [
    "Pour les objets Antenna et UE les id doivent être des entiers consécutifs\n",
    " à partir de 0."
   ]
  }
 ],
 "metadata": {
  "kernelspec": {
   "display_name": "Python 3 (ipykernel)",
   "language": "python",
   "name": "python3"
  },
  "language_info": {
   "codemirror_mode": {
    "name": "ipython",
    "version": 3
   },
   "file_extension": ".py",
   "mimetype": "text/x-python",
   "name": "python",
   "nbconvert_exporter": "python",
   "pygments_lexer": "ipython3",
   "version": "3.9.12"
  }
 },
 "nbformat": 4,
 "nbformat_minor": 5
}
