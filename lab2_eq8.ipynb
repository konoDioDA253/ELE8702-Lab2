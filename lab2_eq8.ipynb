{
 "cells": [
  {
   "attachments": {},
   "cell_type": "markdown",
   "id": "37cb809e",
   "metadata": {},
   "source": [
    "### Code réalisé par l'équipe 8.\n",
    "### Équipe : Anas Bouhemhem 1953369\n",
    "###          Bouh Abdillahi 1940646"
   ]
  },
  {
   "attachments": {},
   "cell_type": "markdown",
   "id": "9c631e4b",
   "metadata": {},
   "source": [
    "Laboratoire 2\n"
   ]
  },
  {
   "cell_type": "code",
   "execution_count": 375,
   "id": "020441bf",
   "metadata": {},
   "outputs": [],
   "source": [
    "import numpy as np\n",
    "import pandas as pd \n",
    "import yaml\n",
    "from yaml.loader import SafeLoader\n",
    "import random\n",
    "import math\n",
    "import matplotlib.pyplot as plt\n",
    "import operator\n",
    "\n",
    "import os\n",
    "from pathlib import Path\n",
    "\n",
    "# Inclusion du fichier de pathloss du 3GPP (Méthodologie 1)\n",
    "from f3GPP import *\n",
    "\n"
   ]
  },
  {
   "attachments": {},
   "cell_type": "markdown",
   "id": "09e5bd56",
   "metadata": {},
   "source": [
    "## Section Lecture des fichiers d'entrés"
   ]
  },
  {
   "attachments": {},
   "cell_type": "markdown",
   "id": "d63afa0f",
   "metadata": {},
   "source": [
    "#### Lecture du fichier cas8.yaml"
   ]
  },
  {
   "cell_type": "code",
   "execution_count": 376,
   "id": "26d6a28a",
   "metadata": {},
   "outputs": [
    {
     "name": "stdout",
     "output_type": "stream",
     "text": [
      "{'ETUDE_IMPORTANT': {'SCENARIO': 'Uma', 'ANT_COORD_GEN': 'g', 'UE_COORD_GEN': 'a', 'COORD_FILES': {'read': 'data/coordonnees_case9.txt'}, 'DEVICES': {'Antenna1': {'number': 25}, 'UE1-App1': {'number': 30}, 'UE2-App2': {'number': 20}}, 'GEOMETRY': {'Surface': {'rectangle': {'length': 5000, 'height': 4000}}}}}\n"
     ]
    }
   ],
   "source": [
    "# import pyyaml module\n",
    "# Open the file and load the file\n",
    "with open('cas8.yaml') as f:\n",
    "    dataCas8 = yaml.load(f, Loader=SafeLoader)\n",
    "    print(dataCas8)\n",
    "\n",
    "\n"
   ]
  },
  {
   "attachments": {},
   "cell_type": "markdown",
   "id": "b0c376b4",
   "metadata": {},
   "source": [
    "#### Lecture du fichier devices_db.yaml"
   ]
  },
  {
   "cell_type": "code",
   "execution_count": 377,
   "id": "b35054d5",
   "metadata": {},
   "outputs": [
    {
     "name": "stdout",
     "output_type": "stream",
     "text": [
      "{'ANTENNAS': {'Antenna1': {'type': 'antenna', 'name': 'Antenna1', 'height': 10, 'scenario': 'UMi', 'frequency': 28, 'gain': 40}, 'Antenna2': {'type': 'antenna', 'name': 'Antenna2', 'height': 35, 'scenario': 'RMa', 'frequency': 0.9, 'gain': 45}, 'Antenna3': {'type': 'antenna', 'name': 'Antenna1', 'height': 10, 'scenario': 'UMi', 'frequency': 28, 'gain': 45}, 'Antenna4': {'type': 'antenna', 'name': 'Antenna2', 'height': 37, 'scenario': 'RMa', 'frequency': 0.9, 'gain': 45}}, 'UES': {'UE1-App1': {'type': 'ue', 'name': 'UE1-App1', 'app': 'app1', 'height': 1.5}, 'UE2-App2': {'type': 'ue', 'name': 'UE2-App2', 'app': 'app2', 'height': 1.5}}}\n"
     ]
    }
   ],
   "source": [
    "# import pyyaml module\n",
    "# Open the file and load the file\n",
    "with open('devices_db.yaml') as f:\n",
    "    dataDevices_db = yaml.load(f, Loader=SafeLoader)\n",
    "    print(dataDevices_db)"
   ]
  },
  {
   "attachments": {},
   "cell_type": "markdown",
   "id": "771b3bc0",
   "metadata": {},
   "source": [
    "## Création de fichier de coordonnées"
   ]
  },
  {
   "attachments": {},
   "cell_type": "markdown",
   "id": "45457123",
   "metadata": {},
   "source": [
    "### Routine de génération de coordonnées de la structure en grille "
   ]
  },
  {
   "cell_type": "code",
   "execution_count": 378,
   "id": "082556d3",
   "metadata": {},
   "outputs": [],
   "source": [
    "def fill_up_the_lattice(N, lh, lv, nh, nv):\n",
    "    \"\"\"Function appelée par get_rectangle_lattice_coords()\"\"\"\n",
    "    \n",
    "    def get_delta1d(L, n):\n",
    "        return L/(n + 1)\n",
    "    \n",
    "    coords = []\n",
    "    deltav = get_delta1d(lv, nv)\n",
    "    deltah = get_delta1d(lh, nh)\n",
    "    line = 1\n",
    "    y = deltav\n",
    "    count = 0\n",
    "    while count < N:\n",
    "        if count + nh < N:\n",
    "            x = deltah\n",
    "            for  i in range(nh):\n",
    "                # Fill up the horizontal line\n",
    "                coords.append((x,y))\n",
    "                x = x + deltah\n",
    "                count += 1\n",
    "            line += 1\n",
    "        else:\n",
    "            deltah = get_delta1d(lh, N - count)\n",
    "            x = deltah\n",
    "            for i in range(N - count):\n",
    "                # Fill up the last horizontal line\n",
    "                coords.append((x,y))\n",
    "                x = x + deltah\n",
    "                count += 1\n",
    "            line += 1\n",
    "        y = y +deltav\n",
    "    return coords\n",
    "\n",
    "\n",
    "\n",
    "def get_rectangle_lattice_coords(lh, lv, N, Np, nh, nv):\n",
    "    \"\"\"Function appelee par gen_lattice_coords()\"\"\"\n",
    "    \n",
    "    if Np > N:\n",
    "        coords = fill_up_the_lattice(N, lh, lv, nh, nv)\n",
    "    elif Np < N:\n",
    "        coords = fill_up_the_lattice(N, lh, lv, nh, nv + 1)\n",
    "    else:\n",
    "        coords = fill_up_the_lattice(N, lh, lv, nh, nv)\n",
    "    return coords\n",
    "\n",
    "\n",
    "# In[170]:\n",
    "\n",
    "\n",
    "def gen_lattice_coords(terrain_shape: dict, N: int):\n",
    "    \"\"\"Génère un ensemble de N coordonnées placées en grille \n",
    "       sur un terrain rectangulaire\n",
    "    \n",
    "       Args: terrain_shape: dictionary {'rectangle': {'length' : lh,\n",
    "                                                   'height' : lv}\n",
    "           lh and lv are given in the case file\"\"\"\n",
    "\n",
    "    shape = list(terrain_shape.keys())[0]\n",
    "    lh = terrain_shape[shape]['length']\n",
    "    lv = terrain_shape[shape]['height']\n",
    "    R = lv / lh    \n",
    "    nv = round(math.sqrt(N / R))\n",
    "    nh = round(R * nv)\n",
    "    Np = nh * nv\n",
    "    if shape.lower() == 'rectangle':\n",
    "        coords = get_rectangle_lattice_coords(lh, lv, N, Np, nh, nv)\n",
    "    else:\n",
    "        msg = [f\"\\tImproper shape ({shape}) used in the\\n\",\n",
    "                \"\\tgeneration of lattice coordinates.\\n\"\n",
    "                \"\\tValid values: ['rectangle']\"]\n",
    "        ERROR(''.join(msg), 2)\n",
    "    return coords"
   ]
  },
  {
   "attachments": {},
   "cell_type": "markdown",
   "id": "9a0c6295",
   "metadata": {},
   "source": [
    "### Routine des coordonnées en grille"
   ]
  },
  {
   "cell_type": "code",
   "execution_count": 379,
   "id": "a1d8f3f8",
   "metadata": {},
   "outputs": [
    {
     "name": "stdout",
     "output_type": "stream",
     "text": [
      "[(28.571428571428573, 28.571428571428573), (57.142857142857146, 28.571428571428573), (85.71428571428572, 28.571428571428573), (114.28571428571429, 28.571428571428573), (142.85714285714286, 28.571428571428573), (171.42857142857144, 28.571428571428573), (28.571428571428573, 57.142857142857146), (57.142857142857146, 57.142857142857146), (85.71428571428572, 57.142857142857146), (114.28571428571429, 57.142857142857146), (142.85714285714286, 57.142857142857146), (171.42857142857144, 57.142857142857146), (28.571428571428573, 85.71428571428572), (57.142857142857146, 85.71428571428572), (85.71428571428572, 85.71428571428572), (114.28571428571429, 85.71428571428572), (142.85714285714286, 85.71428571428572), (171.42857142857144, 85.71428571428572), (28.571428571428573, 114.28571428571429), (57.142857142857146, 114.28571428571429), (85.71428571428572, 114.28571428571429), (114.28571428571429, 114.28571428571429), (142.85714285714286, 114.28571428571429), (171.42857142857144, 114.28571428571429), (28.571428571428573, 142.85714285714286), (57.142857142857146, 142.85714285714286), (85.71428571428572, 142.85714285714286), (114.28571428571429, 142.85714285714286), (142.85714285714286, 142.85714285714286), (171.42857142857144, 142.85714285714286), (66.66666666666667, 171.42857142857144), (133.33333333333334, 171.42857142857144)]\n"
     ]
    }
   ],
   "source": [
    "shape= {'rectangle': {'length': 200, 'height': 200}}\n",
    "N = 32\n",
    "coords = gen_lattice_coords(shape, N)\n",
    "print(coords)"
   ]
  },
  {
   "attachments": {},
   "cell_type": "markdown",
   "id": "1368e42f",
   "metadata": {},
   "source": [
    "### Calcul de Pathloss"
   ]
  },
  {
   "cell_type": "code",
   "execution_count": 380,
   "id": "a1bc1951",
   "metadata": {},
   "outputs": [],
   "source": [
    "def calcul_pathloss(distance_ue_antenne):\n",
    "    \"\"\"Calculate the pathloss (substitution for the 3gpp formulas)\"\"\"\n",
    "    if  (distance_ue_antenne == 0) :\n",
    "        pathloss=500*random.random()\n",
    "    else : \n",
    "        pathloss = distance_ue_antenne\n",
    "    return pathloss\n"
   ]
  },
  {
   "attachments": {},
   "cell_type": "markdown",
   "id": "9501aad8",
   "metadata": {},
   "source": [
    "### Section Lab 2"
   ]
  },
  {
   "cell_type": "code",
   "execution_count": 381,
   "id": "62404b8e",
   "metadata": {},
   "outputs": [
    {
     "name": "stdout",
     "output_type": "stream",
     "text": [
      "False\n",
      "{'read': 'data/coordonnees_case9.txt'}\n",
      "Failure!\n"
     ]
    }
   ],
   "source": [
    "#pathCoord = os.path.abspath(\"\") + '\\\\' + \"test\" \n",
    "\n",
    "# Lecture de fichier coordonées si existant:\n",
    "\n",
    "isExistingCoord = os.path.isfile(\"coords_lab2_eq8.txt\")\n",
    "print(isExistingCoord)\n",
    "#if (isExistingCoord == false):\n",
    "    #création du fichier.\n",
    "\n",
    "\n",
    "# Define Data : \n",
    "\n",
    "print(dataCas8['ETUDE_IMPORTANT']['COORD_FILES'])\n",
    "\n",
    "if 'write' in dataCas8['ETUDE_IMPORTANT']['COORD_FILES']:\n",
    "    print(\"Succes!\")\n",
    "else :\n",
    "    print(\"Failure!\")\n",
    "    \n"
   ]
  },
  {
   "attachments": {},
   "cell_type": "markdown",
   "id": "674f4f30",
   "metadata": {},
   "source": [
    "## Section Antennes/UE\n"
   ]
  },
  {
   "attachments": {},
   "cell_type": "markdown",
   "id": "c5e36797",
   "metadata": {},
   "source": [
    "### Objet Antennes et UE (User Equipement)"
   ]
  },
  {
   "cell_type": "code",
   "execution_count": 382,
   "id": "d0610b51",
   "metadata": {},
   "outputs": [],
   "source": [
    "\n",
    "class Antenna:\n",
    "    \n",
    "    def __init__(self, id):\n",
    "        self.id = id #id de l'antenne (int)\n",
    "        self.group = None # group défini dans la base de données (str)\n",
    "        self.coords = None # tuple contenant les coordonnées (x,y) \n",
    "        self.assoc_ues = [] # liste avec les id des UEs associés à l'antenne\n",
    "        self.scenario = None # scénario tel que lu du fichier de cas (str)\n",
    "        self.gen = None # type de géneration de coordonnées: 'g', 'a', etc. (str)\n",
    "        \n",
    "    \n",
    "class UE:\n",
    "    \n",
    "    def __init__(self, id, app_name):\n",
    "        self.id= id #id de l'UE (int)\n",
    "        self.group = None # group défini dans la base de données (str)\n",
    "        self.coords=None # tuple contenant les coordonnées (x,y) \n",
    "        self.app=app_name #nom de l'application qui tourne dans le UE (str)\n",
    "        self.assoc_ant=None #id de l'antenne associée à l'UE (int)\n",
    "        self.los = True # LoS ou non (bool)\n",
    "        self.gen = None # type de géneration de coordonnées: 'g', 'a', etc. (str)\n",
    "       "
   ]
  },
  {
   "attachments": {},
   "cell_type": "markdown",
   "id": "ac89a4fb",
   "metadata": {},
   "source": [
    "### Creation d'objets Antennes/UE et determination des coords"
   ]
  },
  {
   "cell_type": "code",
   "execution_count": 460,
   "id": "2cf8d26e",
   "metadata": {},
   "outputs": [],
   "source": [
    "def place_ue_and_antennas():\n",
    "\n",
    "###################################################\n",
    "#              Section Antenne   \n",
    "##################################################\n",
    "\n",
    "    shape = dataCas8['ETUDE_IMPORTANT']['GEOMETRY']['Surface']\n",
    "    N = dataCas8['ETUDE_IMPORTANT']['DEVICES']['Antenna1']['number'] \n",
    "    \n",
    "    global listAntenne # facon d'acceder globalement a la liste\n",
    "    listAntenne = []\n",
    "\n",
    "    for x in range(N):\n",
    "        listAntenne.append(Antenna(x))\n",
    "        \n",
    "\n",
    "\n",
    "    # Generation des coordonnees\n",
    "    coords_antennes = gen_lattice_coords(shape, N)\n",
    "  \n",
    "    for x in range(N):\n",
    "        listAntenne[x].coords = ([item[0] for item in coords_antennes][x],\n",
    "                                [item[1] for item in coords_antennes][x])\n",
    "\n",
    "\n",
    "\n",
    "    #############################\n",
    "    # Test a des fin pratiques, a effacer apres\n",
    "    #############################\n",
    "    \n",
    "    coords_antennes_x = [item[0] for item in coords_antennes]\n",
    "    coords_antennes_y = [item[1] for item in coords_antennes]\n",
    "    print(\"coords_antennes_x[2] = \", coords_antennes_x[2])\n",
    "\n",
    "    \n",
    "\n",
    "\n",
    "###################################################\n",
    "#              Section UE   \n",
    "##################################################\n",
    "\n",
    "    nb_ue =  \\\n",
    "    dataCas8['ETUDE_IMPORTANT']['DEVICES']['UE1-App1']['number'] + \\\n",
    "    dataCas8['ETUDE_IMPORTANT']['DEVICES']['UE2-App2']['number']\n",
    "\n",
    "\n",
    "    nb_ue_app_1 = dataCas8['ETUDE_IMPORTANT']['DEVICES']['UE1-App1']['number']\n",
    "    nb_ue_app_2 = dataCas8['ETUDE_IMPORTANT']['DEVICES']['UE2-App2']['number']\n",
    "    \n",
    "    coords_ue_x = []\n",
    "    coords_ue_y = []\n",
    "    coords_ue = []\n",
    "\n",
    "    #*******************************************\n",
    "    #   Creation des objets UE\n",
    "    #*******************************************\n",
    "\n",
    "    global listUE # facon d'acceder globalement a la liste (voir Antenne)\n",
    "    listUE = []\n",
    "\n",
    "    #Qte de UE app 1\n",
    "\n",
    "    for x in range(nb_ue_app_1):\n",
    "        listUE.append(UE(x, 'UE1-App1'))\n",
    "\n",
    "    #Qte de UE app 2\n",
    "\n",
    "    for x in range(nb_ue_app_2):\n",
    "        listUE.append(UE(nb_ue_app_1 + x, 'UE2-App2'))\n",
    "\n",
    "\n",
    "    #grid element layout generation and attribution\n",
    "\n",
    "    for x in range(nb_ue):\n",
    "        temp = dataCas8['ETUDE_IMPORTANT']['GEOMETRY']['Surface']['rectangle']['length'] \\\n",
    "            *random.random()\n",
    "        coords_ue_x.append(temp)\n",
    "        temp2 = dataCas8['ETUDE_IMPORTANT']['GEOMETRY']['Surface']['rectangle']['height'] \\\n",
    "            *random.random()\n",
    "        coords_ue_y.append(temp2)\n",
    "\n",
    "    #index = 0\n",
    "    #while index < nb_ue:\n",
    "    #    coords_ue.append((coords_ue_x[index], coords_ue_y[index]))\n",
    "    #    index = index + 1\n",
    "\n",
    "\n",
    "    # Attribution des coords dans les UE\n",
    "\n",
    "    for x in range(len(listUE)):\n",
    "        setattr(listUE[x], \"coords\", (coords_ue_x[x], coords_ue_y[x]))\n",
    "    print(coords_ue)\n",
    "\n",
    "\n",
    "    #calcul de distance \n",
    "    distance = []\n",
    "\n",
    "        \n",
    "\n",
    "\n"
   ]
  },
  {
   "attachments": {},
   "cell_type": "markdown",
   "id": "ac8dcb35",
   "metadata": {},
   "source": [
    "Section de test d'affichage\n"
   ]
  },
  {
   "cell_type": "code",
   "execution_count": 459,
   "id": "5f9fb1fd",
   "metadata": {},
   "outputs": [
    {
     "name": "stdout",
     "output_type": "stream",
     "text": [
      "coords_antennes_x[2] =  2500.0\n",
      "[]\n",
      "{'id': 2, 'group': None, 'coords': (2500.0, 571.4285714285714), 'assoc_ues': [], 'scenario': None, 'gen': None}\n",
      "(803.6016551153906, 124.44509556820732)\n",
      "(840.1732059575988, 34.507898515844346)\n",
      "(867.9892708206985, 460.109932028269)\n",
      "(562.2719432547545, 234.4323005070591)\n",
      "(539.2700594908683, 220.1126951050585)\n",
      "(48.03837085151586, 128.62032992173206)\n",
      "(861.2974766341384, 246.8022773475757)\n",
      "(717.3619751388094, 298.3134833905526)\n",
      "(844.5659300703458, 449.65382777449094)\n",
      "(96.49703615443627, 384.65778977859924)\n",
      "(772.78137497257, 62.11123638920019)\n",
      "(490.76780362500193, 81.014579880069)\n",
      "(206.95722330727918, 358.43078992074)\n",
      "(65.24324537171866, 164.51972797522018)\n",
      "(230.197400933989, 401.95347628814324)\n",
      "(823.4549875841024, 21.667381715488542)\n",
      "(675.1162393705629, 280.9659756743838)\n",
      "(649.1600859386103, 2.9344521823311265)\n",
      "(600.8848141636335, 271.66930263286326)\n",
      "(121.19330966882369, 37.580548775359766)\n",
      "(637.416564902964, 211.64816237963967)\n",
      "(495.1031178351356, 256.8068479002528)\n",
      "(897.1013825271567, 98.74957430676118)\n",
      "(240.6885781608694, 454.8411151530961)\n",
      "(646.7449449775297, 143.9029758911616)\n",
      "(198.92945498257097, 24.37174239690132)\n",
      "(399.5843030784761, 378.6744576237086)\n",
      "(655.2190221422052, 10.644948348776772)\n",
      "(325.7798204639003, 149.8972785752119)\n",
      "(554.3845235083712, 193.79182686590212)\n",
      "(997.3844340022875, 84.03108752336053)\n",
      "(352.24937540192025, 272.5649604035441)\n",
      "(383.71129182575214, 33.10750190279721)\n",
      "(274.16548146706253, 470.04132862345426)\n",
      "(169.17334291856832, 219.13518019647228)\n",
      "(130.48659676169615, 16.11891065880694)\n",
      "(829.7555469664347, 383.26147995205685)\n",
      "(847.759218592012, 151.72658605063182)\n",
      "(735.8600041378401, 411.42010146030094)\n",
      "(901.9599549907734, 432.4218797756009)\n",
      "(305.5710701491019, 130.87333346157453)\n",
      "(622.9033851487175, 463.75705194615773)\n",
      "(191.15434463840296, 226.49240068692362)\n",
      "(348.917468461114, 170.350814398933)\n",
      "(192.63956638965152, 365.37434391767493)\n",
      "(808.1400545353172, 205.78081740476202)\n",
      "(55.84597788654189, 123.24869632391588)\n",
      "(593.7508277157127, 399.428162282839)\n",
      "(586.8254570484844, 456.06710338645945)\n",
      "(547.097400908082, 239.76337263295488)\n"
     ]
    }
   ],
   "source": [
    "shape = dataCas8['ETUDE_IMPORTANT']['GEOMETRY']['Surface']\n",
    "#N = dataCas8['ETUDE_IMPORTANT']['DEVICES']['Antenna1']['number'] + \\\n",
    "#dataCas8['ETUDE_IMPORTANT']['DEVICES']['UE1-App1']['number'] + \\\n",
    "#dataCas8['ETUDE_IMPORTANT']['DEVICES']['UE2-App2']['number']\n",
    "\n",
    "#place_ue_and_antennas()\n",
    "#print(shape)\n",
    "\n",
    "#test = Antenna(1)\n",
    "#print(test.coords)\n",
    "\n",
    "#test2 = UE(3,\"test\")\n",
    "#print(\"test 2 id = \", test2.id)\n",
    "#print(\"test 2 group = \", test2.group)\n",
    "#print(\"test 2 app name = \", test2.app)\n",
    "\n",
    "place_ue_and_antennas()\n",
    "\n",
    "#setattr(listAntenne[6], \"coords\", (1,2))\n",
    "print(listAntenne[2].__dict__)\n",
    "\n",
    "for x in range(len(listUE)):\n",
    "    print(listUE[x].coords)    \n",
    "\n",
    "\n"
   ]
  },
  {
   "cell_type": "code",
   "execution_count": 301,
   "id": "e0d95119",
   "metadata": {},
   "outputs": [],
   "source": [
    "def calcul_association_ue_antenne(pathloss_computation, coords_ue, coords_antennes, N_ue, N_antenne):\n",
    "    nb_ue = N_ue \n",
    "    index_antennes = 0\n",
    "    index_ue = 0\n",
    "    smallestDistance = [0] * nb_ue\n",
    "    N = N_antenne\n",
    "    while index_ue < nb_ue:\n",
    "        index_antennes = 0\n",
    "        path_loss_min = 10000000000 #valeur arbitraire, il faut juste qu'elle soit assez grande pour prendre la valeur la plus petite.\n",
    "        while index_antennes < N:\n",
    "            temp = tuple(map(operator.sub, coords_ue[index_ue], coords_antennes[index_antennes]))\n",
    "            \n",
    "            if pathloss_computation == \"random\" :\n",
    "                check = calcul_pathloss(0) #random pathloss\n",
    "            if pathloss_computation == \"distance\" :\n",
    "                check = calcul_pathloss(math.sqrt(math.pow(temp[0],2) + math.pow(temp[1],2))) #pathloss from the distance\n",
    "            #check if pathloss is the smallest one in the network of antennas\n",
    "            if check < path_loss_min:\n",
    "                path_loss_min = check\n",
    "                smallestDistance[index_ue] = (check,index_antennes + 1) #antenne commence a 1, et non a 0.\n",
    "\n",
    "            index_antennes = index_antennes + 1\n",
    "            \n",
    "        index_ue = index_ue + 1\n",
    "\n",
    "\n",
    "\n",
    "    numerant = []\n",
    "    pathloss = []\n",
    "    id_ue = []\n",
    "    temp = 1\n",
    "    for i in smallestDistance:\n",
    "        numerant.append(i[1])\n",
    "        pathloss.append(i[0])\n",
    "        id_ue.append(temp)\n",
    "        temp = temp + 1\n",
    "    return id_ue, numerant, pathloss\n",
    "\n",
    "\n",
    "\n",
    "def inv_calcul_association_ue_antenne(pathloss_computation, coords_ue, coords_antennes, N_ue, N_antenne):\n",
    "    nb_ue = N_ue \n",
    "    index_antennes = 0\n",
    "    index_ue = 0\n",
    "    N = N_antenne\n",
    "    smallestDistance = [0] * N\n",
    "    while index_antennes < N: \n",
    "        index_ue = 0\n",
    "        path_loss_min = 10000000000 #valeur arbitraire, il faut juste qu'elle soit assez grande pour prendre la valeur la plus petite.\n",
    "        while index_ue < nb_ue:\n",
    "            temp = tuple(map(operator.sub, coords_ue[index_ue], coords_antennes[index_antennes]))\n",
    "            \n",
    "            if pathloss_computation == \"random\" :\n",
    "                check = calcul_pathloss(0) #random pathloss\n",
    "            if pathloss_computation == \"distance\" :\n",
    "                check = calcul_pathloss(math.sqrt(math.pow(temp[0],2) + math.pow(temp[1],2))) #pathloss from the distance\n",
    "            #check if pathloss is the smallest one in the network of antennas\n",
    "            if check < path_loss_min:\n",
    "                path_loss_min = check\n",
    "                smallestDistance[index_antennes] = (check,index_ue + 1) #ue commence a 1, et non a 0.\n",
    "\n",
    "            index_ue = index_ue + 1\n",
    "            \n",
    "        index_antennes = index_antennes + 1\n",
    "\n",
    "\n",
    "    numerue = []\n",
    "    pathloss = []\n",
    "    id_ant = []\n",
    "    temp = 1\n",
    "    for i in smallestDistance:\n",
    "        numerue.append(i[1])\n",
    "        pathloss.append(i[0])\n",
    "        id_ant.append(temp)\n",
    "        temp = temp + 1\n",
    "\n",
    "    return id_ant, numerue, pathloss"
   ]
  },
  {
   "attachments": {},
   "cell_type": "markdown",
   "id": "78093184",
   "metadata": {},
   "source": [
    "### Écriture dans un fichier"
   ]
  },
  {
   "cell_type": "code",
   "execution_count": null,
   "id": "457006c3",
   "metadata": {},
   "outputs": [],
   "source": [
    "def write_file_assoc(pathloss_computation, pl_lab1_rand_eqn, assoc_lab1_rand_eqn, coords_ue, coords_antennes, N_ue, N_antenne):\n",
    "\n",
    "    id_ue, numerant, pathloss = calcul_association_ue_antenne(pathloss_computation, coords_ue, coords_antennes, N_ue, N_antenne)\n",
    "\n",
    "\n",
    "    data = {\"ID UE\": id_ue, \"ID antenne\": numerant,\n",
    "    \"Pathloss entre UE et antenne\": pathloss\n",
    "    }\n",
    "\n",
    "    id_ant, numerue, pathloss = inv_calcul_association_ue_antenne(pathloss_computation, coords_ue, coords_antennes, N_ue, N_antenne)\n",
    "    data_inv = {\"ID antenne\": id_ant, \"ID UE\": numerue, \n",
    "    \"Pathloss entre UE et antenne\": pathloss\n",
    "    }\n",
    "\n",
    "    df = pd.DataFrame(data=data)\n",
    "    df_inv = pd.DataFrame(data=data_inv)\n",
    "\n",
    "    grp = df.sort_values(by=['ID antenne'])\n",
    "    new_df = grp['ID antenne'].tolist()\n",
    "    new_df_id_ue = grp['ID UE'].tolist()\n",
    "    list_antenne_sorted = list(range(N_antenne + 1))\n",
    "    list_antenne_sorted = list_antenne_sorted[1:]\n",
    "    buffer = []\n",
    "    vector = [0]*N_antenne\n",
    "    current_ue_selection = \"\"\n",
    "\n",
    "    #This let's us associate an antenna to a list of specified UEs\n",
    "    temp = 0\n",
    "    for j in  id_ue :\n",
    "        if temp == 0 and j == 0 :\n",
    "            current_ue_selection = current_ue_selection + str(new_df_id_ue[j-1] ) + \" \"\n",
    "        if j < 300 and j > 0 :\n",
    "            if new_df[j-1] == new_df[j] and j < 300 and j > 0 :\n",
    "                current_ue_selection = current_ue_selection + str(new_df_id_ue[j-1]) + \" \"\n",
    "            else :\n",
    "                buffer.append(current_ue_selection)\n",
    "                vector[temp] = buffer \n",
    "                buffer = []\n",
    "                current_ue_selection = \"\"\n",
    "                temp = temp + 1\n",
    "\n",
    "        if temp == (N_antenne-1) :\n",
    "            if (j == N_ue):\n",
    "                current_ue_selection = current_ue_selection + \" \" + str(new_df_id_ue[j-1])\n",
    "                buffer.append(current_ue_selection)\n",
    "                vector[temp] = buffer \n",
    "\n",
    "    #Dataframe to encapsulate the association antenna to list of UEs\n",
    "    data_assoc = { \"ID antenne\": list_antenne_sorted, \"List ID UE\": vector\n",
    "    }\n",
    "    df_assoc = pd.DataFrame(data=data_assoc)\n",
    "    \n",
    "    #Writing necessary files\n",
    "    path = os.path.abspath(\"\") + '\\\\' + pl_lab1_rand_eqn \n",
    "    path_inv = os.path.abspath(\"\") + '\\\\' + assoc_lab1_rand_eqn \n",
    "    with open(path, 'w') as f:\n",
    "        df_string = df.to_string(header=False, index=False)\n",
    "        f.write(df_string)\n",
    "    f.close()\n",
    "    with open(path_inv, 'w') as f_inv:\n",
    "        df_string_inv = df_assoc.to_string(header=False, index=False)\n",
    "        f_inv.write(df_string_inv)\n",
    "    f_inv.close()\n",
    "\n"
   ]
  },
  {
   "attachments": {},
   "cell_type": "markdown",
   "id": "91442fb8",
   "metadata": {},
   "source": [
    "### Fonction Main\n"
   ]
  },
  {
   "cell_type": "code",
   "execution_count": null,
   "metadata": {},
   "outputs": [
    {
     "ename": "NameError",
     "evalue": "name 'my_variable' is not defined",
     "output_type": "error",
     "traceback": [
      "\u001b[1;31m---------------------------------------------------------------------------\u001b[0m",
      "\u001b[1;31mNameError\u001b[0m                                 Traceback (most recent call last)",
      "Cell \u001b[1;32mIn[80], line 30\u001b[0m\n\u001b[0;32m     28\u001b[0m     pathloss_computation \u001b[39m=\u001b[39m \u001b[39m\"\u001b[39m\u001b[39mdistance\u001b[39m\u001b[39m\"\u001b[39m\n\u001b[0;32m     29\u001b[0m     write_file_assoc(pathloss_computation, pl_lab1_eqn, assoc_lab1_eqn, coords_ue, coords_antennes, N_ue, N_antenne)\n\u001b[1;32m---> 30\u001b[0m lab1_eqn()\n",
      "Cell \u001b[1;32mIn[80], line 2\u001b[0m, in \u001b[0;36mlab1_eqn\u001b[1;34m()\u001b[0m\n\u001b[0;32m      1\u001b[0m \u001b[39mdef\u001b[39;00m \u001b[39mlab1_eqn\u001b[39m() :\n\u001b[1;32m----> 2\u001b[0m     \u001b[39mprint\u001b[39m(my_variable)\n\u001b[0;32m      3\u001b[0m     N_ue \u001b[39m=\u001b[39m \u001b[39m300\u001b[39m\n\u001b[0;32m      4\u001b[0m     N_antenne \u001b[39m=\u001b[39m \u001b[39m25\u001b[39m\n",
      "\u001b[1;31mNameError\u001b[0m: name 'my_variable' is not defined"
     ]
    }
   ],
   "source": [
    "def lab1_eqn() :\n",
    "    print(my_variable)\n",
    "    N_ue = 300\n",
    "    N_antenne = 25\n",
    "    coords_ue, coords_antennes = place_ue_and_antennas(N_antenne, N_ue)\n",
    "\n",
    "    user_choose_name = input(\"Voulez-vous choisir le nom des fichiers à ecrire? \")   \n",
    "\n",
    "    #pathloss random\n",
    "    if user_choose_name == \"oui\" :\n",
    "        pl_lab1_eqn = input(\"Quel nom de fichier pour pl_lab1_rand_eqn.txt \")\n",
    "        assoc_lab1_eqn = input(\"Quel nom de fichier pour assoc_lab1_rand_eqn.txt \")\n",
    "    else :\n",
    "        pl_lab1_eqn = \"pl_lab1_rand_eq8.txt\"\n",
    "        assoc_lab1_eqn = \"assoc_lab1_rand_eq8.txt\" \n",
    "\n",
    "    pathloss_computation = \"random\"\n",
    "    write_file_assoc(pathloss_computation, pl_lab1_eqn, assoc_lab1_eqn, coords_ue, coords_antennes, N_ue, N_antenne)\n",
    "\n",
    "    #pathloss proportional to distance\n",
    "    if user_choose_name == \"oui\" :\n",
    "        pl_lab1_eqn = input(\"Quel nom de fichier pour pl_lab1_dist_eqn.txt \")\n",
    "        assoc_lab1_eqn = input(\"Quel nom de fichier pour assoc_lab1_dist_eqn.txt \")\n",
    "    else :\n",
    "        pl_lab1_eqn = \"pl_lab1_dist_eq8.txt\"\n",
    "        assoc_lab1_eqn =\"assoc_lab1_dist_eq8.txt\"\n",
    "\n",
    "    pathloss_computation = \"distance\"\n",
    "    write_file_assoc(pathloss_computation, pl_lab1_eqn, assoc_lab1_eqn, coords_ue, coords_antennes, N_ue, N_antenne)\n",
    "lab1_eqn()\n"
   ]
  },
  {
   "attachments": {},
   "cell_type": "markdown",
   "id": "f80532e5",
   "metadata": {},
   "source": [
    "## Traitement de scénario de propagation 3GPP (UMi, UMa, etc.)"
   ]
  },
  {
   "attachments": {},
   "cell_type": "markdown",
   "id": "f8ab7178",
   "metadata": {},
   "source": [
    "Le module python qui fait les calculs de pathloss du 3GPP. Veillez l'appeler ```calcul_pathloss_3gpp_eqn.py```"
   ]
  },
  {
   "attachments": {},
   "cell_type": "markdown",
   "id": "977de691",
   "metadata": {},
   "source": [
    "## Calcul de pathloss basés sur ces scénarios\n",
    "Faire des calculs de pathloss basés sur ces scénarios\n"
   ]
  },
  {
   "attachments": {},
   "cell_type": "markdown",
   "id": "8e6abdb6",
   "metadata": {},
   "source": [
    "## Association des UEs pour chaque antenne\n",
    "Pour chaque UE, montrer l'antenne associée"
   ]
  },
  {
   "attachments": {},
   "cell_type": "markdown",
   "id": "f96c7ecc",
   "metadata": {},
   "source": [
    "## Montrer la liste des UEs associés pour CHAQUE Antenne\n",
    "Pour chaque antenne, montrer la liste des UEs qu'y sont associés."
   ]
  },
  {
   "attachments": {},
   "cell_type": "markdown",
   "id": "225fb21c",
   "metadata": {},
   "source": [
    "## Fournir les fichiers suivants :\n"
   ]
  },
  {
   "attachments": {},
   "cell_type": "markdown",
   "id": "e1abb264",
   "metadata": {},
   "source": [
    "    Le fichier de cas utilisé, appelé ```cas_lab2_eqn.yaml```\n",
    "    Le fichier de coordonnées, appelé ```coords_lab2_eqn.txt``` (voir format dans section méthodologie)\n",
    "    Le fichier de visibilité, appelé ```visibility_lab2_eqn.txt``` (voir format dans exemple ci-dessus)\n",
    "    Un fichier d'association, appelé ```assoc_ant_lab2_eqn.txt``` qui montre pour chaque antenne, la liste des UEs associées (voir format dans livrables Lab1)\n",
    "    Un fichier d'association, appelé ```assoc_ue_lab2_eqn.txt``` qui montre pour chaque UE, l'antenne associé\n",
    "    Le fichier de pathloss, appelé ```pl_lab2_eqn.txt```  qui montre le pathloss pour chaque UE et antenne  (voir format dans livrables Lab1)"
   ]
  }
 ],
 "metadata": {
  "kernelspec": {
   "display_name": "Python 3",
   "language": "python",
   "name": "python3"
  },
  "language_info": {
   "codemirror_mode": {
    "name": "ipython",
    "version": 3
   },
   "file_extension": ".py",
   "mimetype": "text/x-python",
   "name": "python",
   "nbconvert_exporter": "python",
   "pygments_lexer": "ipython3",
   "version": "3.11.0"
  },
  "vscode": {
   "interpreter": {
    "hash": "fc55112b20804035bfd881a12599d8dc5cc805a77e4cc0669670d45ba057a7e8"
   }
  }
 },
 "nbformat": 4,
 "nbformat_minor": 5
}
