{
 "cells": [
  {
   "attachments": {},
   "cell_type": "markdown",
   "id": "37cb809e",
   "metadata": {},
   "source": [
    "### Code réalisé par l'équipe 8.\n",
    "### Équipe : Anas Bouhemhem 1953369\n",
    "###          Bouh Abdillahi 1940646"
   ]
  },
  {
   "attachments": {},
   "cell_type": "markdown",
   "id": "9c631e4b",
   "metadata": {},
   "source": [
    "Laboratoire 1 "
   ]
  },
  {
   "cell_type": "code",
   "execution_count": 51,
   "id": "020441bf",
   "metadata": {},
   "outputs": [
    {
     "name": "stdout",
     "output_type": "stream",
     "text": [
      "Hello!\n"
     ]
    },
    {
     "ename": "NameError",
     "evalue": "name 'my_variable' is not defined",
     "output_type": "error",
     "traceback": [
      "\u001b[1;31m---------------------------------------------------------------------------\u001b[0m",
      "\u001b[1;31mNameError\u001b[0m                                 Traceback (most recent call last)",
      "Cell \u001b[1;32mIn[51], line 16\u001b[0m\n\u001b[0;32m     13\u001b[0m     \u001b[39mreturn\u001b[39;00m exec(\u001b[39mopen\u001b[39m(path)\u001b[39m.\u001b[39mread())\n\u001b[0;32m     15\u001b[0m run_file(\u001b[39m\"\u001b[39m\u001b[39mtest.py\u001b[39m\u001b[39m\"\u001b[39m)\n\u001b[1;32m---> 16\u001b[0m \u001b[39mprint\u001b[39m(my_variable)\n",
      "\u001b[1;31mNameError\u001b[0m: name 'my_variable' is not defined"
     ]
    }
   ],
   "source": [
    "import numpy as np\n",
    "import pandas as pd \n",
    "import yaml\n",
    "from yaml.loader import SafeLoader\n",
    "import random\n",
    "import math\n",
    "import matplotlib.pyplot as plt\n",
    "import operator\n",
    "\n",
    "import os\n",
    "from pathlib import Path\n",
    "def run_file(path):\n",
    "    return exec(open(path).read())\n",
    "\n",
    "run_file(\"test.py\")\n",
    "print(my_variable)\n"
   ]
  },
  {
   "cell_type": "code",
   "execution_count": 38,
   "id": "26d6a28a",
   "metadata": {},
   "outputs": [
    {
     "name": "stdout",
     "output_type": "stream",
     "text": [
      "{'ETUDE_IMPORTANT': {'SCENARIO': 'Uma', 'ANT_COORD_GEN': 'g', 'UE_COORD_GEN': 'a', 'DEVICES': {'Antenna1': {'number': 25}, 'UE1-App1': {'number': 30}, 'UE2-App2': {'number': 20}}, 'GEOMETRY': {'Surface': {'rectangle': {'length': 5000, 'heigth': 4000}}}}}\n"
     ]
    }
   ],
   "source": [
    "# import pyyaml module\n",
    "# Open the file and load the file\n",
    "with open('cas8.yaml') as f:\n",
    "    data = yaml.load(f, Loader=SafeLoader)\n",
    "    print(data)"
   ]
  },
  {
   "cell_type": "code",
   "execution_count": 39,
   "id": "b35054d5",
   "metadata": {},
   "outputs": [
    {
     "name": "stdout",
     "output_type": "stream",
     "text": [
      "{'ANTENNAS': {'Antenna1': {'type': 'antenna', 'name': 'Antenna1', 'height': 10, 'scenario': 'UMi', 'frequency': 28, 'gain': 40}, 'Antenna2': {'type': 'antenna', 'name': 'Antenna2', 'height': 35, 'scenario': 'RMa', 'frequency': 0.9, 'gain': 45}, 'Antenna3': {'type': 'antenna', 'name': 'Antenna1', 'height': 10, 'scenario': 'UMi', 'frequency': 28, 'gain': 45}, 'Antenna4': {'type': 'antenna', 'name': 'Antenna2', 'height': 37, 'scenario': 'RMa', 'frequency': 0.9, 'gain': 45}}, 'UES': {'UE1-App1': {'type': 'ue', 'name': 'UE1-App1', 'app': 'app1', 'height': 1.5}, 'UE2-App2': {'type': 'ue', 'name': 'UE2-App2', 'app': 'app2', 'height': 1.5}}}\n"
     ]
    }
   ],
   "source": [
    "# import pyyaml module\n",
    "# Open the file and load the file\n",
    "with open('devices_db.yaml') as f:\n",
    "    data = yaml.load(f, Loader=SafeLoader)\n",
    "    print(data)"
   ]
  },
  {
   "attachments": {},
   "cell_type": "markdown",
   "id": "45457123",
   "metadata": {},
   "source": [
    "### Routine de génération de coordonnées de la structure en grille "
   ]
  },
  {
   "cell_type": "code",
   "execution_count": 40,
   "id": "082556d3",
   "metadata": {},
   "outputs": [],
   "source": [
    "def fill_up_the_lattice(N, lh, lv, nh, nv):\n",
    "    \"\"\"Function appelée par get_rectangle_lattice_coords()\"\"\"\n",
    "    \n",
    "    def get_delta1d(L, n):\n",
    "        return L/(n + 1)\n",
    "    \n",
    "    coords = []\n",
    "    deltav = get_delta1d(lv, nv)\n",
    "    deltah = get_delta1d(lh, nh)\n",
    "    line = 1\n",
    "    y = deltav\n",
    "    count = 0\n",
    "    while count < N:\n",
    "        if count + nh < N:\n",
    "            x = deltah\n",
    "            for  i in range(nh):\n",
    "                # Fill up the horizontal line\n",
    "                coords.append((x,y))\n",
    "                x = x + deltah\n",
    "                count += 1\n",
    "            line += 1\n",
    "        else:\n",
    "            deltah = get_delta1d(lh, N - count)\n",
    "            x = deltah\n",
    "            for i in range(N - count):\n",
    "                # Fill up the last horizontal line\n",
    "                coords.append((x,y))\n",
    "                x = x + deltah\n",
    "                count += 1\n",
    "            line += 1\n",
    "        y = y +deltav\n",
    "    return coords\n",
    "\n",
    "\n",
    "\n",
    "def get_rectangle_lattice_coords(lh, lv, N, Np, nh, nv):\n",
    "    \"\"\"Function appelee par gen_lattice_coords()\"\"\"\n",
    "    \n",
    "    if Np > N:\n",
    "        coords = fill_up_the_lattice(N, lh, lv, nh, nv)\n",
    "    elif Np < N:\n",
    "        coords = fill_up_the_lattice(N, lh, lv, nh, nv + 1)\n",
    "    else:\n",
    "        coords = fill_up_the_lattice(N, lh, lv, nh, nv)\n",
    "    return coords\n",
    "\n",
    "\n",
    "# In[170]:\n",
    "\n",
    "\n",
    "def gen_lattice_coords(terrain_shape: dict, N: int):\n",
    "    \"\"\"Génère un ensemble de N coordonnées placées en grille \n",
    "       sur un terrain rectangulaire\n",
    "    \n",
    "       Args: terrain_shape: dictionary {'rectangle': {'length' : lh,\n",
    "                                                   'height' : lv}\n",
    "           lh and lv are given in the case file\"\"\"\n",
    "\n",
    "    shape = list(terrain_shape.keys())[0]\n",
    "    lh = terrain_shape[shape]['length']\n",
    "    lv = terrain_shape[shape]['height']\n",
    "    R = lv / lh    \n",
    "    nv = round(math.sqrt(N / R))\n",
    "    nh = round(R * nv)\n",
    "    Np = nh * nv\n",
    "    if shape.lower() == 'rectangle':\n",
    "        coords = get_rectangle_lattice_coords(lh, lv, N, Np, nh, nv)\n",
    "    else:\n",
    "        msg = [f\"\\tImproper shape ({shape}) used in the\\n\",\n",
    "                \"\\tgeneration of lattice coordinates.\\n\"\n",
    "                \"\\tValid values: ['rectangle']\"]\n",
    "        ERROR(''.join(msg), 2)\n",
    "    return coords"
   ]
  },
  {
   "attachments": {},
   "cell_type": "markdown",
   "id": "9a0c6295",
   "metadata": {},
   "source": [
    "### Routine des coordonnées en grille"
   ]
  },
  {
   "cell_type": "code",
   "execution_count": 41,
   "id": "a1d8f3f8",
   "metadata": {},
   "outputs": [
    {
     "name": "stdout",
     "output_type": "stream",
     "text": [
      "[(28.571428571428573, 28.571428571428573), (57.142857142857146, 28.571428571428573), (85.71428571428572, 28.571428571428573), (114.28571428571429, 28.571428571428573), (142.85714285714286, 28.571428571428573), (171.42857142857144, 28.571428571428573), (28.571428571428573, 57.142857142857146), (57.142857142857146, 57.142857142857146), (85.71428571428572, 57.142857142857146), (114.28571428571429, 57.142857142857146), (142.85714285714286, 57.142857142857146), (171.42857142857144, 57.142857142857146), (28.571428571428573, 85.71428571428572), (57.142857142857146, 85.71428571428572), (85.71428571428572, 85.71428571428572), (114.28571428571429, 85.71428571428572), (142.85714285714286, 85.71428571428572), (171.42857142857144, 85.71428571428572), (28.571428571428573, 114.28571428571429), (57.142857142857146, 114.28571428571429), (85.71428571428572, 114.28571428571429), (114.28571428571429, 114.28571428571429), (142.85714285714286, 114.28571428571429), (171.42857142857144, 114.28571428571429), (28.571428571428573, 142.85714285714286), (57.142857142857146, 142.85714285714286), (85.71428571428572, 142.85714285714286), (114.28571428571429, 142.85714285714286), (142.85714285714286, 142.85714285714286), (171.42857142857144, 142.85714285714286), (66.66666666666667, 171.42857142857144), (133.33333333333334, 171.42857142857144)]\n"
     ]
    }
   ],
   "source": [
    "shape= {'rectangle': {'length': 200, 'height': 200}}\n",
    "N = 32\n",
    "coords = gen_lattice_coords(shape, N)\n",
    "print(coords)"
   ]
  },
  {
   "attachments": {},
   "cell_type": "markdown",
   "id": "1368e42f",
   "metadata": {},
   "source": [
    "### Calcul de Pathloss"
   ]
  },
  {
   "cell_type": "code",
   "execution_count": 42,
   "id": "a1bc1951",
   "metadata": {},
   "outputs": [],
   "source": [
    "def calcul_pathloss(distance_ue_antenne):\n",
    "    \"\"\"Calculate the pathloss (substitution for the 3gpp formulas)\"\"\"\n",
    "    if  (distance_ue_antenne == 0) :\n",
    "        pathloss=500*random.random()\n",
    "    else : \n",
    "        pathloss = distance_ue_antenne\n",
    "    return pathloss\n"
   ]
  },
  {
   "attachments": {},
   "cell_type": "markdown",
   "id": "c5e36797",
   "metadata": {},
   "source": [
    "### Objet Antennes et UE (User Equipement)"
   ]
  },
  {
   "cell_type": "code",
   "execution_count": 43,
   "id": "d0610b51",
   "metadata": {},
   "outputs": [],
   "source": [
    "\n",
    "class Antenna:\n",
    "    \n",
    "    def __init__(self, id):\n",
    "        self.id = id #id de l'antenne (int)\n",
    "        self.group = None # group défini dans la base de données (str)\n",
    "        self.coords = None # tuple contenant les coordonnées (x,y) \n",
    "        self.assoc_ues = [] # liste avec les id des UEs associés à l'antenne\n",
    "        self.scenario = None # scénario tel que lu du fichier de cas (str)\n",
    "        self.gen = None # type de géneration de coordonnées: 'g', 'a', etc. (str)\n",
    "        \n",
    "    \n",
    "class UE:\n",
    "    \n",
    "    def __init__(self, id, app_name):\n",
    "        self.id= id #id de l'UE (int)\n",
    "        self.group = None # group défini dans la base de données (str)\n",
    "        self.coords=None # tuple contenant les coordonnées (x,y) \n",
    "        self.app=app_name #nom de l'application qui tourne dans le UE (str)\n",
    "        self.assoc_ant=None #id de l'antenne associée à l'UE (int)\n",
    "        self.los = True # LoS ou non (bool)\n",
    "        self.gen = None # type de géneration de coordonnées: 'g', 'a', etc. (str)\n",
    "       "
   ]
  },
  {
   "attachments": {},
   "cell_type": "markdown",
   "id": "a2415f4a",
   "metadata": {},
   "source": [
    "### Calcul du pathloss"
   ]
  },
  {
   "cell_type": "code",
   "execution_count": 44,
   "id": "942a0ce3",
   "metadata": {},
   "outputs": [
    {
     "name": "stdout",
     "output_type": "stream",
     "text": [
      "7.285608638471997\n"
     ]
    }
   ],
   "source": [
    "test = calcul_pathloss(0)\n",
    "print(test)"
   ]
  },
  {
   "cell_type": "code",
   "execution_count": 45,
   "id": "2cf8d26e",
   "metadata": {},
   "outputs": [],
   "source": [
    "def place_ue_and_antennas(N_antenne, N_ue):\n",
    "    shape= {'rectangle': {'length': 1000, 'height': 500}}\n",
    "    N = N_antenne\n",
    "    coords_antennes = gen_lattice_coords(shape, N)\n",
    "\n",
    "    coords_antennes_x = [item[0] for item in coords_antennes]\n",
    "\n",
    "    coords_antennes_y = [item[1] for item in coords_antennes]\n",
    "\n",
    "\n",
    "\n",
    "\n",
    "\n",
    "    nb_ue = N_ue\n",
    "    coords_ue_x = []\n",
    "    coords_ue_y = []\n",
    "    coords_ue = []\n",
    "    index = 0\n",
    "\n",
    "    #grid element layout generation and attribution\n",
    "\n",
    "    while index < nb_ue:\n",
    "        temp = 1000*random.random()\n",
    "        coords_ue_x.append(temp)\n",
    "        temp2 = 500*random.random()\n",
    "        coords_ue_y.append(temp2)\n",
    "        index = index + 1\n",
    "\n",
    "\n",
    "    index = 0\n",
    "    while index < nb_ue:\n",
    "        coords_ue.append((coords_ue_x[index], coords_ue_y[index]))\n",
    "        index = index + 1\n",
    "\n",
    "    #calcul de distance \n",
    "    distance = []\n",
    "    return coords_ue, coords_antennes\n",
    "\n",
    "        \n",
    "\n",
    "\n"
   ]
  },
  {
   "cell_type": "code",
   "execution_count": 46,
   "id": "e0d95119",
   "metadata": {},
   "outputs": [],
   "source": [
    "def calcul_association_ue_antenne(pathloss_computation, coords_ue, coords_antennes, N_ue, N_antenne):\n",
    "    nb_ue = N_ue \n",
    "    index_antennes = 0\n",
    "    index_ue = 0\n",
    "    smallestDistance = [0] * nb_ue\n",
    "    N = N_antenne\n",
    "    while index_ue < nb_ue:\n",
    "        index_antennes = 0\n",
    "        path_loss_min = 10000000000 #valeur arbitraire, il faut juste qu'elle soit assez grande pour prendre la valeur la plus petite.\n",
    "        while index_antennes < N:\n",
    "            temp = tuple(map(operator.sub, coords_ue[index_ue], coords_antennes[index_antennes]))\n",
    "            \n",
    "            if pathloss_computation == \"random\" :\n",
    "                check = calcul_pathloss(0) #random pathloss\n",
    "            if pathloss_computation == \"distance\" :\n",
    "                check = calcul_pathloss(math.sqrt(math.pow(temp[0],2) + math.pow(temp[1],2))) #pathloss from the distance\n",
    "            #check if pathloss is the smallest one in the network of antennas\n",
    "            if check < path_loss_min:\n",
    "                path_loss_min = check\n",
    "                smallestDistance[index_ue] = (check,index_antennes + 1) #antenne commence a 1, et non a 0.\n",
    "\n",
    "            index_antennes = index_antennes + 1\n",
    "            \n",
    "        index_ue = index_ue + 1\n",
    "\n",
    "\n",
    "\n",
    "    numerant = []\n",
    "    pathloss = []\n",
    "    id_ue = []\n",
    "    temp = 1\n",
    "    for i in smallestDistance:\n",
    "        numerant.append(i[1])\n",
    "        pathloss.append(i[0])\n",
    "        id_ue.append(temp)\n",
    "        temp = temp + 1\n",
    "    return id_ue, numerant, pathloss\n",
    "\n",
    "\n",
    "\n",
    "def inv_calcul_association_ue_antenne(pathloss_computation, coords_ue, coords_antennes, N_ue, N_antenne):\n",
    "    nb_ue = N_ue \n",
    "    index_antennes = 0\n",
    "    index_ue = 0\n",
    "    N = N_antenne\n",
    "    smallestDistance = [0] * N\n",
    "    while index_antennes < N: \n",
    "        index_ue = 0\n",
    "        path_loss_min = 10000000000 #valeur arbitraire, il faut juste qu'elle soit assez grande pour prendre la valeur la plus petite.\n",
    "        while index_ue < nb_ue:\n",
    "            temp = tuple(map(operator.sub, coords_ue[index_ue], coords_antennes[index_antennes]))\n",
    "            \n",
    "            if pathloss_computation == \"random\" :\n",
    "                check = calcul_pathloss(0) #random pathloss\n",
    "            if pathloss_computation == \"distance\" :\n",
    "                check = calcul_pathloss(math.sqrt(math.pow(temp[0],2) + math.pow(temp[1],2))) #pathloss from the distance\n",
    "            #check if pathloss is the smallest one in the network of antennas\n",
    "            if check < path_loss_min:\n",
    "                path_loss_min = check\n",
    "                smallestDistance[index_antennes] = (check,index_ue + 1) #ue commence a 1, et non a 0.\n",
    "\n",
    "            index_ue = index_ue + 1\n",
    "            \n",
    "        index_antennes = index_antennes + 1\n",
    "\n",
    "\n",
    "    numerue = []\n",
    "    pathloss = []\n",
    "    id_ant = []\n",
    "    temp = 1\n",
    "    for i in smallestDistance:\n",
    "        numerue.append(i[1])\n",
    "        pathloss.append(i[0])\n",
    "        id_ant.append(temp)\n",
    "        temp = temp + 1\n",
    "\n",
    "    return id_ant, numerue, pathloss"
   ]
  },
  {
   "attachments": {},
   "cell_type": "markdown",
   "id": "78093184",
   "metadata": {},
   "source": [
    "### Écriture dans un fichier"
   ]
  },
  {
   "cell_type": "code",
   "execution_count": 47,
   "id": "457006c3",
   "metadata": {},
   "outputs": [],
   "source": [
    "def write_file_assoc(pathloss_computation, pl_lab1_rand_eqn, assoc_lab1_rand_eqn, coords_ue, coords_antennes, N_ue, N_antenne):\n",
    "\n",
    "    id_ue, numerant, pathloss = calcul_association_ue_antenne(pathloss_computation, coords_ue, coords_antennes, N_ue, N_antenne)\n",
    "\n",
    "\n",
    "    data = {\"ID UE\": id_ue, \"ID antenne\": numerant,\n",
    "    \"Pathloss entre UE et antenne\": pathloss\n",
    "    }\n",
    "\n",
    "    id_ant, numerue, pathloss = inv_calcul_association_ue_antenne(pathloss_computation, coords_ue, coords_antennes, N_ue, N_antenne)\n",
    "    data_inv = {\"ID antenne\": id_ant, \"ID UE\": numerue, \n",
    "    \"Pathloss entre UE et antenne\": pathloss\n",
    "    }\n",
    "\n",
    "    df = pd.DataFrame(data=data)\n",
    "    df_inv = pd.DataFrame(data=data_inv)\n",
    "\n",
    "    grp = df.sort_values(by=['ID antenne'])\n",
    "    new_df = grp['ID antenne'].tolist()\n",
    "    new_df_id_ue = grp['ID UE'].tolist()\n",
    "    list_antenne_sorted = list(range(N_antenne + 1))\n",
    "    list_antenne_sorted = list_antenne_sorted[1:]\n",
    "    buffer = []\n",
    "    vector = [0]*N_antenne\n",
    "    current_ue_selection = \"\"\n",
    "\n",
    "    #This let's us associate an antenna to a list of specified UEs\n",
    "    temp = 0\n",
    "    for j in  id_ue :\n",
    "        if temp == 0 and j == 0 :\n",
    "            current_ue_selection = current_ue_selection + str(new_df_id_ue[j-1] ) + \" \"\n",
    "        if j < 300 and j > 0 :\n",
    "            if new_df[j-1] == new_df[j] and j < 300 and j > 0 :\n",
    "                current_ue_selection = current_ue_selection + str(new_df_id_ue[j-1]) + \" \"\n",
    "            else :\n",
    "                buffer.append(current_ue_selection)\n",
    "                vector[temp] = buffer \n",
    "                buffer = []\n",
    "                current_ue_selection = \"\"\n",
    "                temp = temp + 1\n",
    "\n",
    "        if temp == (N_antenne-1) :\n",
    "            if (j == N_ue):\n",
    "                current_ue_selection = current_ue_selection + \" \" + str(new_df_id_ue[j-1])\n",
    "                buffer.append(current_ue_selection)\n",
    "                vector[temp] = buffer \n",
    "\n",
    "    #Dataframe to encapsulate the association antenna to list of UEs\n",
    "    data_assoc = { \"ID antenne\": list_antenne_sorted, \"List ID UE\": vector\n",
    "    }\n",
    "    df_assoc = pd.DataFrame(data=data_assoc)\n",
    "    \n",
    "    #Writing necessary files\n",
    "    path = os.path.abspath(\"\") + '\\\\' + pl_lab1_rand_eqn \n",
    "    path_inv = os.path.abspath(\"\") + '\\\\' + assoc_lab1_rand_eqn \n",
    "    with open(path, 'w') as f:\n",
    "        df_string = df.to_string(header=False, index=False)\n",
    "        f.write(df_string)\n",
    "    f.close()\n",
    "    with open(path_inv, 'w') as f_inv:\n",
    "        df_string_inv = df_assoc.to_string(header=False, index=False)\n",
    "        f_inv.write(df_string_inv)\n",
    "    f_inv.close()\n",
    "\n"
   ]
  },
  {
   "attachments": {},
   "cell_type": "markdown",
   "id": "91442fb8",
   "metadata": {},
   "source": [
    "### Fonction Main\n"
   ]
  },
  {
   "cell_type": "code",
   "execution_count": 48,
   "metadata": {},
   "outputs": [
    {
     "ename": "NameError",
     "evalue": "name 'my_variable' is not defined",
     "output_type": "error",
     "traceback": [
      "\u001b[1;31m---------------------------------------------------------------------------\u001b[0m",
      "\u001b[1;31mNameError\u001b[0m                                 Traceback (most recent call last)",
      "Cell \u001b[1;32mIn[48], line 30\u001b[0m\n\u001b[0;32m     28\u001b[0m     pathloss_computation \u001b[39m=\u001b[39m \u001b[39m\"\u001b[39m\u001b[39mdistance\u001b[39m\u001b[39m\"\u001b[39m\n\u001b[0;32m     29\u001b[0m     write_file_assoc(pathloss_computation, pl_lab1_eqn, assoc_lab1_eqn, coords_ue, coords_antennes, N_ue, N_antenne)\n\u001b[1;32m---> 30\u001b[0m lab1_eqn()\n",
      "Cell \u001b[1;32mIn[48], line 2\u001b[0m, in \u001b[0;36mlab1_eqn\u001b[1;34m()\u001b[0m\n\u001b[0;32m      1\u001b[0m \u001b[39mdef\u001b[39;00m \u001b[39mlab1_eqn\u001b[39m() :\n\u001b[1;32m----> 2\u001b[0m     \u001b[39mprint\u001b[39m(my_variable)\n\u001b[0;32m      3\u001b[0m     N_ue \u001b[39m=\u001b[39m \u001b[39m300\u001b[39m\n\u001b[0;32m      4\u001b[0m     N_antenne \u001b[39m=\u001b[39m \u001b[39m25\u001b[39m\n",
      "\u001b[1;31mNameError\u001b[0m: name 'my_variable' is not defined"
     ]
    }
   ],
   "source": [
    "def lab1_eqn() :\n",
    "    print(my_variable)\n",
    "    N_ue = 300\n",
    "    N_antenne = 25\n",
    "    coords_ue, coords_antennes = place_ue_and_antennas(N_antenne, N_ue)\n",
    "\n",
    "    user_choose_name = input(\"Voulez-vous choisir le nom des fichiers à ecrire? \")   \n",
    "\n",
    "    #pathloss random\n",
    "    if user_choose_name == \"oui\" :\n",
    "        pl_lab1_eqn = input(\"Quel nom de fichier pour pl_lab1_rand_eqn.txt \")\n",
    "        assoc_lab1_eqn = input(\"Quel nom de fichier pour assoc_lab1_rand_eqn.txt \")\n",
    "    else :\n",
    "        pl_lab1_eqn = \"pl_lab1_rand_eq8.txt\"\n",
    "        assoc_lab1_eqn = \"assoc_lab1_rand_eq8.txt\" \n",
    "\n",
    "    pathloss_computation = \"random\"\n",
    "    write_file_assoc(pathloss_computation, pl_lab1_eqn, assoc_lab1_eqn, coords_ue, coords_antennes, N_ue, N_antenne)\n",
    "\n",
    "    #pathloss proportional to distance\n",
    "    if user_choose_name == \"oui\" :\n",
    "        pl_lab1_eqn = input(\"Quel nom de fichier pour pl_lab1_dist_eqn.txt \")\n",
    "        assoc_lab1_eqn = input(\"Quel nom de fichier pour assoc_lab1_dist_eqn.txt \")\n",
    "    else :\n",
    "        pl_lab1_eqn = \"pl_lab1_dist_eq8.txt\"\n",
    "        assoc_lab1_eqn =\"assoc_lab1_dist_eq8.txt\"\n",
    "\n",
    "    pathloss_computation = \"distance\"\n",
    "    write_file_assoc(pathloss_computation, pl_lab1_eqn, assoc_lab1_eqn, coords_ue, coords_antennes, N_ue, N_antenne)\n",
    "lab1_eqn()\n"
   ]
  }
 ],
 "metadata": {
  "kernelspec": {
   "display_name": "Python 3",
   "language": "python",
   "name": "python3"
  },
  "language_info": {
   "codemirror_mode": {
    "name": "ipython",
    "version": 3
   },
   "file_extension": ".py",
   "mimetype": "text/x-python",
   "name": "python",
   "nbconvert_exporter": "python",
   "pygments_lexer": "ipython3",
   "version": "3.8.0"
  },
  "vscode": {
   "interpreter": {
    "hash": "cac6f8704574c1dfcdc535e7d573c5e6319c3e26693cb116916dc504b937d265"
   }
  }
 },
 "nbformat": 4,
 "nbformat_minor": 5
}
