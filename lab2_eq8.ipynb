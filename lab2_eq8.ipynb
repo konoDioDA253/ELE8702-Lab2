{
 "cells": [
  {
   "attachments": {},
   "cell_type": "markdown",
   "id": "37cb809e",
   "metadata": {},
   "source": [
    "### Code réalisé par l'équipe 8.\n",
    "### Équipe : Anas Bouhemhem 1953369\n",
    "###          Bouh Abdillahi 1940646"
   ]
  },
  {
   "attachments": {},
   "cell_type": "markdown",
   "id": "9c631e4b",
   "metadata": {},
   "source": [
    "Laboratoire 2\n"
   ]
  },
  {
   "cell_type": "code",
   "execution_count": 1,
   "id": "020441bf",
   "metadata": {},
   "outputs": [
    {
     "name": "stderr",
     "output_type": "stream",
     "text": [
      "e:\\Documents\\Hiver_2023\\ELE8702\\Lab2\\f3GPP.py:60: SyntaxWarning: 'float' object is not callable; perhaps you missed a comma?\n",
      "  PLPrime_UMaNLOS = 13.54 + 39.08 * math.log10(d_3D) + 20 * math.log10(f_c) - 0.6 (h_UT - 1.5)\n",
      "e:\\Documents\\Hiver_2023\\ELE8702\\Lab2\\f3GPP.py:91: SyntaxWarning: 'float' object is not callable; perhaps you missed a comma?\n",
      "  PLPrime_UMiNLOS = 22.4 + 35.4 * math.log10(d_3D) + 21.3 * math.log10(f_c) - 0.3 (h_UT - 1.5)\n"
     ]
    }
   ],
   "source": [
    "import numpy as np\n",
    "import pandas as pd \n",
    "import yaml\n",
    "from yaml.loader import SafeLoader\n",
    "import random\n",
    "import math\n",
    "import matplotlib.pyplot as plt\n",
    "import operator\n",
    "\n",
    "import os\n",
    "from pathlib import Path\n",
    "\n",
    "# Inclusion du fichier de pathloss du 3GPP (Méthodologie 1)\n",
    "from f3GPP import *\n",
    "\n"
   ]
  },
  {
   "attachments": {},
   "cell_type": "markdown",
   "id": "09e5bd56",
   "metadata": {},
   "source": [
    "## Section Lecture des fichiers d'entrés"
   ]
  },
  {
   "attachments": {},
   "cell_type": "markdown",
   "id": "d63afa0f",
   "metadata": {},
   "source": [
    "#### Lecture du fichier cas8.yaml"
   ]
  },
  {
   "cell_type": "code",
   "execution_count": 2,
   "id": "26d6a28a",
   "metadata": {},
   "outputs": [
    {
     "name": "stdout",
     "output_type": "stream",
     "text": [
      "{'ETUDE_IMPORTANT': {'SCENARIO': 'Uma', 'ANT_COORD_GEN': 'g', 'UE_COORD_GEN': 'a', 'COORD_FILES': {'read': 'data/coordonnees_case9.txt'}, 'DEVICES': {'Antenna1': {'number': 25}, 'UE1-App1': {'number': 30}, 'UE2-App2': {'number': 20}}, 'GEOMETRY': {'Surface': {'rectangle': {'length': 5000, 'height': 4000}}}}}\n"
     ]
    }
   ],
   "source": [
    "# import pyyaml module\n",
    "# Open the file and load the file\n",
    "with open('cas8.yaml') as f:\n",
    "    dataCas8 = yaml.load(f, Loader=SafeLoader)\n",
    "    print(dataCas8)\n",
    "\n",
    "\n"
   ]
  },
  {
   "attachments": {},
   "cell_type": "markdown",
   "id": "b0c376b4",
   "metadata": {},
   "source": [
    "#### Lecture du fichier devices_db.yaml"
   ]
  },
  {
   "cell_type": "code",
   "execution_count": 3,
   "id": "b35054d5",
   "metadata": {},
   "outputs": [
    {
     "name": "stdout",
     "output_type": "stream",
     "text": [
      "{'ANTENNAS': {'Antenna1': {'type': 'antenna', 'name': 'Antenna1', 'height': 10, 'scenario': 'UMi', 'frequency': 28, 'gain': 40}, 'Antenna2': {'type': 'antenna', 'name': 'Antenna2', 'height': 35, 'scenario': 'RMa', 'frequency': 0.9, 'gain': 45}, 'Antenna3': {'type': 'antenna', 'name': 'Antenna1', 'height': 10, 'scenario': 'UMi', 'frequency': 28, 'gain': 45}, 'Antenna4': {'type': 'antenna', 'name': 'Antenna2', 'height': 37, 'scenario': 'RMa', 'frequency': 0.9, 'gain': 45}}, 'UES': {'UE1-App1': {'type': 'ue', 'name': 'UE1-App1', 'app': 'app1', 'height': 1.5}, 'UE2-App2': {'type': 'ue', 'name': 'UE2-App2', 'app': 'app2', 'height': 1.5}}}\n"
     ]
    }
   ],
   "source": [
    "# import pyyaml module\n",
    "# Open the file and load the file\n",
    "with open('devices_db.yaml') as f:\n",
    "    dataDevices_db = yaml.load(f, Loader=SafeLoader)\n",
    "    print(dataDevices_db)"
   ]
  },
  {
   "attachments": {},
   "cell_type": "markdown",
   "id": "771b3bc0",
   "metadata": {},
   "source": [
    "## Création de fichier de coordonnées"
   ]
  },
  {
   "attachments": {},
   "cell_type": "markdown",
   "id": "45457123",
   "metadata": {},
   "source": [
    "### Routine de génération de coordonnées de la structure en grille "
   ]
  },
  {
   "cell_type": "code",
   "execution_count": 4,
   "id": "082556d3",
   "metadata": {},
   "outputs": [],
   "source": [
    "def fill_up_the_lattice(N, lh, lv, nh, nv):\n",
    "    \"\"\"Function appelée par get_rectangle_lattice_coords()\"\"\"\n",
    "    \n",
    "    def get_delta1d(L, n):\n",
    "        return L/(n + 1)\n",
    "    \n",
    "    coords = []\n",
    "    deltav = get_delta1d(lv, nv)\n",
    "    deltah = get_delta1d(lh, nh)\n",
    "    line = 1\n",
    "    y = deltav\n",
    "    count = 0\n",
    "    while count < N:\n",
    "        if count + nh < N:\n",
    "            x = deltah\n",
    "            for  i in range(nh):\n",
    "                # Fill up the horizontal line\n",
    "                coords.append((x,y))\n",
    "                x = x + deltah\n",
    "                count += 1\n",
    "            line += 1\n",
    "        else:\n",
    "            deltah = get_delta1d(lh, N - count)\n",
    "            x = deltah\n",
    "            for i in range(N - count):\n",
    "                # Fill up the last horizontal line\n",
    "                coords.append((x,y))\n",
    "                x = x + deltah\n",
    "                count += 1\n",
    "            line += 1\n",
    "        y = y +deltav\n",
    "    return coords\n",
    "\n",
    "\n",
    "\n",
    "def get_rectangle_lattice_coords(lh, lv, N, Np, nh, nv):\n",
    "    \"\"\"Function appelee par gen_lattice_coords()\"\"\"\n",
    "    \n",
    "    if Np > N:\n",
    "        coords = fill_up_the_lattice(N, lh, lv, nh, nv)\n",
    "    elif Np < N:\n",
    "        coords = fill_up_the_lattice(N, lh, lv, nh, nv + 1)\n",
    "    else:\n",
    "        coords = fill_up_the_lattice(N, lh, lv, nh, nv)\n",
    "    return coords\n",
    "\n",
    "\n",
    "# In[170]:\n",
    "\n",
    "\n",
    "def gen_lattice_coords(terrain_shape: dict, N: int):\n",
    "    \"\"\"Génère un ensemble de N coordonnées placées en grille \n",
    "       sur un terrain rectangulaire\n",
    "    \n",
    "       Args: terrain_shape: dictionary {'rectangle': {'length' : lh,\n",
    "                                                   'height' : lv}\n",
    "           lh and lv are given in the case file\"\"\"\n",
    "\n",
    "    shape = list(terrain_shape.keys())[0]\n",
    "    lh = terrain_shape[shape]['length']\n",
    "    lv = terrain_shape[shape]['height']\n",
    "    R = lv / lh    \n",
    "    nv = round(math.sqrt(N / R))\n",
    "    nh = round(R * nv)\n",
    "    Np = nh * nv\n",
    "    if shape.lower() == 'rectangle':\n",
    "        coords = get_rectangle_lattice_coords(lh, lv, N, Np, nh, nv)\n",
    "    else:\n",
    "        msg = [f\"\\tImproper shape ({shape}) used in the\\n\",\n",
    "                \"\\tgeneration of lattice coordinates.\\n\"\n",
    "                \"\\tValid values: ['rectangle']\"]\n",
    "        ERROR(''.join(msg), 2)\n",
    "    return coords"
   ]
  },
  {
   "attachments": {},
   "cell_type": "markdown",
   "id": "9a0c6295",
   "metadata": {},
   "source": [
    "### Routine des coordonnées en grille"
   ]
  },
  {
   "cell_type": "code",
   "execution_count": 5,
   "id": "a1d8f3f8",
   "metadata": {},
   "outputs": [
    {
     "name": "stdout",
     "output_type": "stream",
     "text": [
      "[(28.571428571428573, 28.571428571428573), (57.142857142857146, 28.571428571428573), (85.71428571428572, 28.571428571428573), (114.28571428571429, 28.571428571428573), (142.85714285714286, 28.571428571428573), (171.42857142857144, 28.571428571428573), (28.571428571428573, 57.142857142857146), (57.142857142857146, 57.142857142857146), (85.71428571428572, 57.142857142857146), (114.28571428571429, 57.142857142857146), (142.85714285714286, 57.142857142857146), (171.42857142857144, 57.142857142857146), (28.571428571428573, 85.71428571428572), (57.142857142857146, 85.71428571428572), (85.71428571428572, 85.71428571428572), (114.28571428571429, 85.71428571428572), (142.85714285714286, 85.71428571428572), (171.42857142857144, 85.71428571428572), (28.571428571428573, 114.28571428571429), (57.142857142857146, 114.28571428571429), (85.71428571428572, 114.28571428571429), (114.28571428571429, 114.28571428571429), (142.85714285714286, 114.28571428571429), (171.42857142857144, 114.28571428571429), (28.571428571428573, 142.85714285714286), (57.142857142857146, 142.85714285714286), (85.71428571428572, 142.85714285714286), (114.28571428571429, 142.85714285714286), (142.85714285714286, 142.85714285714286), (171.42857142857144, 142.85714285714286), (66.66666666666667, 171.42857142857144), (133.33333333333334, 171.42857142857144)]\n"
     ]
    }
   ],
   "source": [
    "shape= {'rectangle': {'length': 200, 'height': 200}}\n",
    "N = 32\n",
    "coords = gen_lattice_coords(shape, N)\n",
    "print(coords)"
   ]
  },
  {
   "attachments": {},
   "cell_type": "markdown",
   "id": "1368e42f",
   "metadata": {},
   "source": [
    "### Calcul de Pathloss"
   ]
  },
  {
   "cell_type": "code",
   "execution_count": 6,
   "id": "a1bc1951",
   "metadata": {},
   "outputs": [],
   "source": [
    "def calcul_pathloss(distance_ue_antenne):\n",
    "    \"\"\"Calculate the pathloss (substitution for the 3gpp formulas)\"\"\"\n",
    "    if  (distance_ue_antenne == 0) :\n",
    "        pathloss=500*random.random()\n",
    "    else : \n",
    "        pathloss = distance_ue_antenne\n",
    "    return pathloss\n"
   ]
  },
  {
   "attachments": {},
   "cell_type": "markdown",
   "id": "9501aad8",
   "metadata": {},
   "source": [
    "### Section Lab 2"
   ]
  },
  {
   "cell_type": "code",
   "execution_count": 7,
   "id": "62404b8e",
   "metadata": {},
   "outputs": [
    {
     "name": "stdout",
     "output_type": "stream",
     "text": [
      "False\n",
      "{'read': 'data/coordonnees_case9.txt'}\n",
      "Failure!\n"
     ]
    }
   ],
   "source": [
    "#pathCoord = os.path.abspath(\"\") + '\\\\' + \"test\" \n",
    "\n",
    "# Lecture de fichier coordonées si existant:\n",
    "\n",
    "isExistingCoord = os.path.isfile(\"coords_lab2_eq8.txt\")\n",
    "print(isExistingCoord)\n",
    "#if (isExistingCoord == false):\n",
    "    #création du fichier.\n",
    "\n",
    "\n",
    "# Define Data : \n",
    "\n",
    "print(dataCas8['ETUDE_IMPORTANT']['COORD_FILES'])\n",
    "\n",
    "if 'write' in dataCas8['ETUDE_IMPORTANT']['COORD_FILES']:\n",
    "    print(\"Succes!\")\n",
    "else :\n",
    "    print(\"Failure!\")\n",
    "    \n"
   ]
  },
  {
   "attachments": {},
   "cell_type": "markdown",
   "id": "674f4f30",
   "metadata": {},
   "source": [
    "## Section Antennes/UE\n"
   ]
  },
  {
   "attachments": {},
   "cell_type": "markdown",
   "id": "c5e36797",
   "metadata": {},
   "source": [
    "### Objet Antennes et UE (User Equipement)"
   ]
  },
  {
   "cell_type": "code",
   "execution_count": 8,
   "id": "d0610b51",
   "metadata": {},
   "outputs": [],
   "source": [
    "\n",
    "class Antenna:\n",
    "    \n",
    "    def __init__(self, id):\n",
    "        self.id = id #id de l'antenne (int)\n",
    "        self.group = None # group défini dans la base de données (str)\n",
    "        self.coords = None # tuple contenant les coordonnées (x,y) \n",
    "        self.assoc_ues = [] # liste avec les id des UEs associés à l'antenne\n",
    "        self.scenario = None # scénario tel que lu du fichier de cas (str)\n",
    "        self.gen = None # type de géneration de coordonnées: 'g', 'a', etc. (str)\n",
    "        \n",
    "    \n",
    "class UE:\n",
    "    \n",
    "    def __init__(self, id, app_name):\n",
    "        self.id= id #id de l'UE (int)\n",
    "        self.group = None # group défini dans la base de données (str)\n",
    "        self.coords=None # tuple contenant les coordonnées (x,y) \n",
    "        self.app=app_name #nom de l'application qui tourne dans le UE (str)\n",
    "        self.assoc_ant=None #id de l'antenne associée à l'UE (int)\n",
    "        self.los = True # LoS ou non (bool)\n",
    "        self.gen = None # type de géneration de coordonnées: 'g', 'a', etc. (str)\n",
    "       "
   ]
  },
  {
   "attachments": {},
   "cell_type": "markdown",
   "id": "ac89a4fb",
   "metadata": {},
   "source": [
    "### Creation d'objets Antennes/UE et determination des coords"
   ]
  },
  {
   "cell_type": "code",
   "execution_count": 46,
   "id": "2cf8d26e",
   "metadata": {},
   "outputs": [],
   "source": [
    "def place_ue_and_antennas():\n",
    "\n",
    "###################################################\n",
    "#              Section Antenne   \n",
    "##################################################\n",
    "\n",
    "    shape = dataCas8['ETUDE_IMPORTANT']['GEOMETRY']['Surface']\n",
    "    global Nb_antenne\n",
    "    Nb_antenne = dataCas8['ETUDE_IMPORTANT']['DEVICES']['Antenna1']['number'] \n",
    "    \n",
    "    global listAntenne # facon d'acceder globalement a la liste\n",
    "    listAntenne = []\n",
    "\n",
    "    for x in range(N):\n",
    "        listAntenne.append(Antenna(x))\n",
    "        \n",
    "\n",
    "\n",
    "    # Generation des coordonnees\n",
    "    coords_antennes = gen_lattice_coords(shape, N)\n",
    "  \n",
    "    for x in range(N):\n",
    "        listAntenne[x].coords = ([item[0] for item in coords_antennes][x],\n",
    "                                [item[1] for item in coords_antennes][x])\n",
    "\n",
    "\n",
    "\n",
    "    #############################\n",
    "    # Test a des fin pratiques, a effacer apres\n",
    "    #############################\n",
    "    \n",
    "    coords_antennes_x = [item[0] for item in coords_antennes]\n",
    "    coords_antennes_y = [item[1] for item in coords_antennes]\n",
    "\n",
    "    \n",
    "\n",
    "\n",
    "###################################################\n",
    "#              Section UE   \n",
    "##################################################\n",
    "\n",
    "    global nb_ue\n",
    "    nb_ue =  \\\n",
    "    dataCas8['ETUDE_IMPORTANT']['DEVICES']['UE1-App1']['number'] + \\\n",
    "    dataCas8['ETUDE_IMPORTANT']['DEVICES']['UE2-App2']['number']\n",
    "\n",
    "\n",
    "    nb_ue_app_1 = dataCas8['ETUDE_IMPORTANT']['DEVICES']['UE1-App1']['number']\n",
    "    nb_ue_app_2 = dataCas8['ETUDE_IMPORTANT']['DEVICES']['UE2-App2']['number']\n",
    "    \n",
    "    coords_ue_x = []\n",
    "    coords_ue_y = []\n",
    "    coords_ue = []\n",
    "\n",
    "    #*******************************************\n",
    "    #   Creation des objets UE\n",
    "    #*******************************************\n",
    "\n",
    "    global listUE # facon d'acceder globalement a la liste (voir Antenne)\n",
    "    listUE = []\n",
    "\n",
    "    #Qte de UE app 1\n",
    "\n",
    "    for x in range(nb_ue_app_1):\n",
    "        listUE.append(UE(x, 'UE1-App1'))\n",
    "\n",
    "    #Qte de UE app 2\n",
    "\n",
    "    for x in range(nb_ue_app_2):\n",
    "        listUE.append(UE(nb_ue_app_1 + x, 'UE2-App2'))\n",
    "\n",
    "\n",
    "    #grid element layout generation and attribution\n",
    "\n",
    "    for x in range(nb_ue):\n",
    "        temp = dataCas8['ETUDE_IMPORTANT']['GEOMETRY']['Surface']['rectangle']['length'] \\\n",
    "            *random.random()\n",
    "        coords_ue_x.append(temp)\n",
    "        temp2 = dataCas8['ETUDE_IMPORTANT']['GEOMETRY']['Surface']['rectangle']['height'] \\\n",
    "            *random.random()\n",
    "        coords_ue_y.append(temp2)\n",
    "\n",
    "    #index = 0\n",
    "    #while index < nb_ue:\n",
    "    #    coords_ue.append((coords_ue_x[index], coords_ue_y[index]))\n",
    "    #    index = index + 1\n",
    "\n",
    "\n",
    "    # Attribution des coords dans les UE\n",
    "\n",
    "    for x in range(len(listUE)):\n",
    "        setattr(listUE[x], \"coords\", (coords_ue_x[x], coords_ue_y[x]))\n",
    "    print(coords_ue)\n",
    "\n",
    "\n",
    "    #calcul de distance \n",
    "    distance = []\n",
    "\n",
    "    return listAntenne, listUE\n",
    "\n",
    "\n"
   ]
  },
  {
   "attachments": {},
   "cell_type": "markdown",
   "id": "ac8dcb35",
   "metadata": {},
   "source": [
    "Section de test d'affichage\n"
   ]
  },
  {
   "cell_type": "code",
   "execution_count": 10,
   "id": "5f9fb1fd",
   "metadata": {},
   "outputs": [
    {
     "name": "stdout",
     "output_type": "stream",
     "text": [
      "[]\n",
      "{'id': 6, 'group': None, 'coords': (4336.2910653665695, 3757.8450643718943), 'app': 'UE1-App1', 'assoc_ant': None, 'los': True, 'gen': None}\n",
      "(2741.4319017324956, 1712.0404796286014)\n",
      "(683.0039714301716, 2878.968710892877)\n",
      "(1691.7936043527116, 3438.456871699966)\n",
      "(717.9497702523863, 2275.953911698688)\n",
      "(3842.4123927826886, 2430.7311260148117)\n",
      "(2699.6257852388117, 3101.118404191008)\n",
      "(4336.2910653665695, 3757.8450643718943)\n",
      "(3545.091303926864, 3003.5799108473007)\n",
      "(810.8383146612657, 2508.0646384914035)\n",
      "(4727.812479467804, 5.976838700125775)\n",
      "(3353.3621388181227, 2981.8802198375524)\n",
      "(468.7198163680101, 2164.1447290003316)\n",
      "(2427.001997108892, 1591.667904775962)\n",
      "(1954.2842690969924, 986.6543696401822)\n",
      "(2720.140353557892, 2555.1601474297363)\n",
      "(3841.9110225645936, 1553.9356375076636)\n",
      "(1868.0913745104976, 1035.2848635067273)\n",
      "(904.2589422537272, 169.0259596239585)\n",
      "(4909.778913883755, 1431.1469552774354)\n",
      "(4716.908557716682, 2684.2142761316636)\n",
      "(1008.361690498099, 684.7016819059891)\n",
      "(4758.847980309569, 3318.1694413011724)\n",
      "(1057.8785194866402, 2366.931478658937)\n",
      "(2953.0547011483723, 540.1928473146045)\n",
      "(1192.9978646252798, 2728.7227976449267)\n",
      "(1888.3287302656627, 1113.0150705458818)\n",
      "(2509.5337437092317, 2123.4609322748097)\n",
      "(157.4378181483943, 2793.731688978179)\n",
      "(1391.6406580306234, 2052.1654792242653)\n",
      "(283.61016214337565, 731.662683387583)\n",
      "(4205.25677752562, 2194.3383892496036)\n",
      "(4056.0103269694096, 3994.707518239471)\n",
      "(2005.6146580532513, 745.0880268410716)\n",
      "(973.0067943260228, 919.9156457868058)\n",
      "(4115.732617938846, 3440.290347181416)\n",
      "(1764.5402230660977, 3061.175473399037)\n",
      "(2643.067175580535, 494.46085093490666)\n",
      "(364.40351669287276, 417.8902542021432)\n",
      "(2599.3368463356787, 1029.7177597996545)\n",
      "(3921.9592518954782, 2746.2384700538737)\n",
      "(3179.8095098858216, 1224.1640065474226)\n",
      "(777.4398003609195, 705.558966765023)\n",
      "(4820.952340946978, 2419.219833708752)\n",
      "(4088.0059195302433, 1045.893678907539)\n",
      "(156.1418641059109, 907.6931770304037)\n",
      "(489.8591850933326, 2786.3117872614994)\n",
      "(3039.99123513263, 3341.7193868950426)\n",
      "(118.01437707150254, 3053.938860836847)\n",
      "(4656.459311442257, 2300.581472688726)\n",
      "(130.44092465047285, 221.92188272763548)\n"
     ]
    }
   ],
   "source": [
    "shape = dataCas8['ETUDE_IMPORTANT']['GEOMETRY']['Surface']\n",
    "#N = dataCas8['ETUDE_IMPORTANT']['DEVICES']['Antenna1']['number'] + \\\n",
    "#dataCas8['ETUDE_IMPORTANT']['DEVICES']['UE1-App1']['number'] + \\\n",
    "#dataCas8['ETUDE_IMPORTANT']['DEVICES']['UE2-App2']['number']\n",
    "\n",
    "#place_ue_and_antennas()\n",
    "#print(shape)\n",
    "\n",
    "#test = Antenna(1)\n",
    "#print(test.coords)\n",
    "\n",
    "#test2 = UE(3,\"test\")\n",
    "#print(\"test 2 id = \", test2.id)\n",
    "#print(\"test 2 group = \", test2.group)\n",
    "#print(\"test 2 app name = \", test2.app)\n",
    "\n",
    "place_ue_and_antennas()\n",
    "\n",
    "#setattr(listAntenne[6], \"coords\", (1,2))\n",
    "print(listUE[6].__dict__)\n",
    "\n",
    "for x in range(len(listUE)):\n",
    "    print(listUE[x].coords)    \n",
    "\n",
    "\n"
   ]
  },
  {
   "cell_type": "code",
   "execution_count": 64,
   "id": "e0d95119",
   "metadata": {},
   "outputs": [],
   "source": [
    "#def calcul_association_ue_antenne(pathloss_computation, coords_ue, coords_antennes, N_ue, N_antenne):\n",
    "\n",
    "def calcul_association_ue_antenne(pathloss_computation):\n",
    "     \n",
    "    index_antennes = 0\n",
    "    index_ue = 0\n",
    "    smallestDistance = [0] * nb_ue\n",
    "    check = 0\n",
    "    calculPathlossChaqueAntenne = [] * Nb_antenne # nom a changer\n",
    "    pathlossTotal = [] * nb_ue \n",
    "\n",
    "\n",
    "    for x in range(nb_ue):\n",
    "        for y in range(Nb_antenne):\n",
    "            temp = tuple(map(operator.sub, listUE[y].coords, listAntenne[y].coords))\n",
    "\n",
    "\n",
    "            if pathloss_computation == \"random\" :\n",
    "                check = calcul_pathloss(0) #random pathloss\n",
    "                calculPathlossChaqueAntenne.append(calcul_pathloss(0))\n",
    "                \n",
    "\n",
    "            if pathloss_computation == \"distance\" :\n",
    "                check = calcul_pathloss(math.sqrt(math.pow(temp[0],2) + math.pow(temp[1],2))) #pathloss from the distance\n",
    "                calculPathlossChaqueAntenne.append(check)\n",
    "                \n",
    "            if y == 0: # Assigner premiere valeur\n",
    "                path_loss_min = check \n",
    "                smallestDistance[x] = (check, y) #antenne commence a 1, et non a 0.\n",
    "            elif check < path_loss_min: #sinon comparer pour la plus petite\n",
    "                path_loss_min = check\n",
    "                smallestDistance[x] = (check, y) #antenne commence a 1, et non a 0.\n",
    "                temporary_value = y\n",
    "\n",
    "        #print(calculPathlossChaqueAntenne)\n",
    "        pathlossTotal.append(calculPathlossChaqueAntenne)\n",
    "        calculPathlossChaqueAntenne = [] * Nb_antenne # nom a changer\n",
    "        setattr(listUE[x], \"assoc_ant\", (temporary_value))\n",
    "\n",
    "    \n",
    "    # print(pathlossTotal)\n",
    "\n",
    "    return smallestDistance, pathlossTotal               \n",
    "# commented region\n",
    "    #     while index_ue < nb_ue:\n",
    "    #         index_antennes = 0\n",
    "    #         path_loss_min = 10000000000 #valeur arbitraire, il faut juste qu'elle soit assez grande pour prendre la valeur la plus petite.\n",
    "    #         while index_antennes < N:\n",
    "    #             temp = tuple(map(operator.sub, coords_ue[index_ue], coords_antennes[index_antennes]))\n",
    "                \n",
    "    #             if pathloss_computation == \"random\" :\n",
    "    #                 check = calcul_pathloss(0) #random pathloss\n",
    "    #             if pathloss_computation == \"distance\" :\n",
    "    #                 check = calcul_pathloss(math.sqrt(math.pow(temp[0],2) + math.pow(temp[1],2))) #pathloss from the distance\n",
    "    #             #check if pathloss is the smallest one in the network of antennas\n",
    "    #             if check < path_loss_min:\n",
    "    #                 path_loss_min = check\n",
    "    #                 smallestDistance[index_ue] = (check,index_antennes + 1) #antenne commence a 1, et non a 0.\n",
    "\n",
    "    #             index_antennes = index_antennes + 1\n",
    "                \n",
    "    #         index_ue = index_ue + 1\n",
    "\n",
    "\n",
    "\n",
    "    #     numerant = []\n",
    "    #     pathloss = []\n",
    "    #     id_ue = []\n",
    "    #     temp = 1\n",
    "    #     for i in smallestDistance:\n",
    "    #         numerant.append(i[1])\n",
    "    #         pathloss.append(i[0])\n",
    "    #         id_ue.append(temp)\n",
    "    #         temp = temp + 1\n",
    "    #     return id_ue, numerant, pathloss\n",
    "\n",
    "\n",
    "\n",
    "    # def inv_calcul_association_ue_antenne(pathloss_computation, coords_ue, coords_antennes, N_ue, N_antenne):\n",
    "    #     nb_ue = N_ue \n",
    "    #     index_antennes = 0\n",
    "    #     index_ue = 0\n",
    "    #     N = N_antenne\n",
    "    #     smallestDistance = [0] * N\n",
    "    #     while index_antennes < N: \n",
    "    #         index_ue = 0\n",
    "    #         path_loss_min = 10000000000 #valeur arbitraire, il faut juste qu'elle soit assez grande pour prendre la valeur la plus petite.\n",
    "    #         while index_ue < nb_ue:\n",
    "    #             temp = tuple(map(operator.sub, coords_ue[index_ue], coords_antennes[index_antennes]))\n",
    "                \n",
    "    #             if pathloss_computation == \"random\" :\n",
    "    #                 check = calcul_pathloss(0) #random pathloss\n",
    "    #             if pathloss_computation == \"distance\" :\n",
    "    #                 check = calcul_pathloss(math.sqrt(math.pow(temp[0],2) + math.pow(temp[1],2))) #pathloss from the distance\n",
    "    #             #check if pathloss is the smallest one in the network of antennas\n",
    "    #             if check < path_loss_min:\n",
    "    #                 path_loss_min = check\n",
    "    #                 smallestDistance[index_antennes] = (check,index_ue + 1) #ue commence a 1, et non a 0.\n",
    "\n",
    "    #             index_ue = index_ue + 1\n",
    "                \n",
    "    #         index_antennes = index_antennes + 1\n",
    "\n",
    "\n",
    "    #     numerue = []\n",
    "    #     pathloss = []\n",
    "    #     id_ant = []\n",
    "    #     temp = 1\n",
    "    #     for i in smallestDistance:\n",
    "    #         numerue.append(i[1])\n",
    "    #         pathloss.append(i[0])\n",
    "    #         id_ant.append(temp)\n",
    "    #         temp = temp + 1\n",
    "\n",
    "    #     return id_ant, numerue, pathloss\n",
    "# endregion"
   ]
  },
  {
   "attachments": {},
   "cell_type": "markdown",
   "id": "28b461d3",
   "metadata": {},
   "source": [
    "### Section Test "
   ]
  },
  {
   "cell_type": "code",
   "execution_count": 67,
   "id": "649ec8f1",
   "metadata": {},
   "outputs": [
    {
     "name": "stdout",
     "output_type": "stream",
     "text": [
      "[(6.92294886915823, 11), (5.995637550726851, 4), (25.99597249056157, 7), (14.358899026644556, 24), (13.221095460800413, 0), (14.363585349699948, 7), (14.715401236586601, 19), (11.785877362634755, 0), (12.030499921896087, 23), (20.35878349322806, 5), (4.877733604222501, 2), (18.42377172791504, 14), (13.145878025000501, 4), (15.048106225746983, 19), (28.316675248984957, 4), (40.634391204052044, 4), (0.8622606847593639, 17), (5.0129938926820605, 3), (3.91827308178333, 24), (54.055763179302, 17), (27.15229129776614, 19), (11.441452333805668, 1), (66.9976163104648, 6), (52.6460084393266, 23), (15.675796123528707, 1), (84.31220955865543, 1), (5.484200285844287, 15), (13.354006224617132, 8), (22.950882460268552, 17), (8.244531409881406, 8), (5.886488681993707, 17), (31.075233854488793, 19), (23.349593424575655, 16), (4.22262005104912, 17), (37.42981416832908, 10), (54.59840526577192, 12), (19.68234988227191, 15), (0.16415721614410073, 20), (52.55676995611752, 11), (39.39554093640424, 9), (2.037097863167192, 10), (8.144981624023217, 22), (1.694870680705507, 7), (1.1610769251511055, 24), (51.953380350597214, 17), (0.17375013881343326, 5), (7.121928484490613, 5), (31.017266990879534, 16), (25.740401697184723, 4), (0.1964152283405185, 16)]\n",
      "{'id': 5, 'group': None, 'coords': (438.3777397823857, 1221.2421635857088), 'app': 'UE1-App1', 'assoc_ant': 7, 'los': True, 'gen': None}\n"
     ]
    }
   ],
   "source": [
    "smallestDistance, pathlossTotal = calcul_association_ue_antenne(\"random\")\n",
    "print(smallestDistance)\n",
    "print(listUE[5].__dict__)"
   ]
  },
  {
   "attachments": {},
   "cell_type": "markdown",
   "id": "78093184",
   "metadata": {},
   "source": [
    "### Écriture dans un fichier"
   ]
  },
  {
   "cell_type": "code",
   "execution_count": null,
   "id": "457006c3",
   "metadata": {},
   "outputs": [],
   "source": [
    "def write_file_assoc(pathloss_computation, pl_lab1_rand_eqn, assoc_lab1_rand_eqn, coords_ue, coords_antennes, N_ue, N_antenne):\n",
    "\n",
    "    id_ue, numerant, pathloss = calcul_association_ue_antenne(pathloss_computation, coords_ue, coords_antennes, N_ue, N_antenne)\n",
    "\n",
    "\n",
    "    data = {\"ID UE\": id_ue, \"ID antenne\": numerant,\n",
    "    \"Pathloss entre UE et antenne\": pathloss\n",
    "    }\n",
    "\n",
    "    id_ant, numerue, pathloss = inv_calcul_association_ue_antenne(pathloss_computation, coords_ue, coords_antennes, N_ue, N_antenne)\n",
    "    data_inv = {\"ID antenne\": id_ant, \"ID UE\": numerue, \n",
    "    \"Pathloss entre UE et antenne\": pathloss\n",
    "    }\n",
    "\n",
    "    df = pd.DataFrame(data=data)\n",
    "    df_inv = pd.DataFrame(data=data_inv)\n",
    "\n",
    "    grp = df.sort_values(by=['ID antenne'])\n",
    "    new_df = grp['ID antenne'].tolist()\n",
    "    new_df_id_ue = grp['ID UE'].tolist()\n",
    "    list_antenne_sorted = list(range(N_antenne + 1))\n",
    "    list_antenne_sorted = list_antenne_sorted[1:]\n",
    "    buffer = []\n",
    "    vector = [0]*N_antenne\n",
    "    current_ue_selection = \"\"\n",
    "\n",
    "    #This let's us associate an antenna to a list of specified UEs\n",
    "    temp = 0\n",
    "    for j in  id_ue :\n",
    "        if temp == 0 and j == 0 :\n",
    "            current_ue_selection = current_ue_selection + str(new_df_id_ue[j-1] ) + \" \"\n",
    "        if j < 300 and j > 0 :\n",
    "            if new_df[j-1] == new_df[j] and j < 300 and j > 0 :\n",
    "                current_ue_selection = current_ue_selection + str(new_df_id_ue[j-1]) + \" \"\n",
    "            else :\n",
    "                buffer.append(current_ue_selection)\n",
    "                vector[temp] = buffer \n",
    "                buffer = []\n",
    "                current_ue_selection = \"\"\n",
    "                temp = temp + 1\n",
    "\n",
    "        if temp == (N_antenne-1) :\n",
    "            if (j == N_ue):\n",
    "                current_ue_selection = current_ue_selection + \" \" + str(new_df_id_ue[j-1])\n",
    "                buffer.append(current_ue_selection)\n",
    "                vector[temp] = buffer \n",
    "\n",
    "    #Dataframe to encapsulate the association antenna to list of UEs\n",
    "    data_assoc = { \"ID antenne\": list_antenne_sorted, \"List ID UE\": vector\n",
    "    }\n",
    "    df_assoc = pd.DataFrame(data=data_assoc)\n",
    "    \n",
    "    #Writing necessary files\n",
    "    path = os.path.abspath(\"\") + '\\\\' + pl_lab1_rand_eqn \n",
    "    path_inv = os.path.abspath(\"\") + '\\\\' + assoc_lab1_rand_eqn \n",
    "    with open(path, 'w') as f:\n",
    "        df_string = df.to_string(header=False, index=False)\n",
    "        f.write(df_string)\n",
    "    f.close()\n",
    "    with open(path_inv, 'w') as f_inv:\n",
    "        df_string_inv = df_assoc.to_string(header=False, index=False)\n",
    "        f_inv.write(df_string_inv)\n",
    "    f_inv.close()\n",
    "\n"
   ]
  },
  {
   "attachments": {},
   "cell_type": "markdown",
   "id": "91442fb8",
   "metadata": {},
   "source": [
    "### Fonction lab1_eq8\n"
   ]
  },
  {
   "cell_type": "code",
   "execution_count": 55,
   "metadata": {},
   "outputs": [],
   "source": [
    "def lab1_eq8() :\n",
    "    # N_ue = 300\n",
    "    # N_antenne = 25\n",
    "    listAntenne, listUE = place_ue_and_antennas()\n",
    "\n",
    "    user_choose_name = input(\"Voulez-vous choisir le nom des fichiers à ecrire? \")   \n",
    "\n",
    "    #pathloss random\n",
    "    if user_choose_name == \"oui\" :\n",
    "        pl_lab1_eqn = input(\"Quel nom de fichier pour pl_lab1_rand_eqn.txt \")\n",
    "        assoc_lab1_eqn = input(\"Quel nom de fichier pour assoc_lab1_rand_eqn.txt \")\n",
    "    else :\n",
    "        pl_lab1_eqn = \"pl_lab1_rand_eq8.txt\"\n",
    "        assoc_lab1_eqn = \"assoc_lab1_rand_eq8.txt\" \n",
    "\n",
    "    pathloss_computation = \"random\"\n",
    "    # write_file_assoc(pathloss_computation, pl_lab1_eqn, assoc_lab1_eqn, coords_ue, coords_antennes, N_ue, N_antenne)\n",
    "\n",
    "    #pathloss proportional to distance\n",
    "    if user_choose_name == \"oui\" :\n",
    "        pl_lab1_eqn = input(\"Quel nom de fichier pour pl_lab1_dist_eqn.txt \")\n",
    "        assoc_lab1_eqn = input(\"Quel nom de fichier pour assoc_lab1_dist_eqn.txt \")\n",
    "    else :\n",
    "        pl_lab1_eqn = \"pl_lab1_dist_eq8.txt\"\n",
    "        assoc_lab1_eqn =\"assoc_lab1_dist_eq8.txt\"\n",
    "\n",
    "    pathloss_computation = \"distance\"\n",
    "    # write_file_assoc(pathloss_computation, pl_lab1_eqn, assoc_lab1_eqn, coords_ue, coords_antennes, N_ue, N_antenne)\n",
    "\n",
    "\n",
    "    return listAntenne, listUE\n"
   ]
  },
  {
   "attachments": {},
   "cell_type": "markdown",
   "id": "313c1d62",
   "metadata": {},
   "source": [
    "### Fonction lab1()"
   ]
  },
  {
   "cell_type": "code",
   "execution_count": 60,
   "id": "e6e96dd6",
   "metadata": {},
   "outputs": [],
   "source": [
    "def lab1() :\n",
    "    listAntenne, listUE = lab1_eq8()\n",
    "    print(listUE[5].__dict__)\n",
    "    # return listAntenne, listUE\n",
    "    "
   ]
  },
  {
   "attachments": {},
   "cell_type": "markdown",
   "id": "f400beb1",
   "metadata": {},
   "source": [
    "### Fonction Main"
   ]
  },
  {
   "cell_type": "code",
   "execution_count": 63,
   "id": "2a84ad3a",
   "metadata": {},
   "outputs": [
    {
     "name": "stdout",
     "output_type": "stream",
     "text": [
      "[]\n",
      "{'id': 5, 'group': None, 'coords': (438.3777397823857, 1221.2421635857088), 'app': 'UE1-App1', 'assoc_ant': None, 'los': True, 'gen': None}\n"
     ]
    }
   ],
   "source": [
    "lab1()"
   ]
  },
  {
   "attachments": {},
   "cell_type": "markdown",
   "id": "f80532e5",
   "metadata": {},
   "source": [
    "## Traitement de scénario de propagation 3GPP (UMi, UMa, etc.)"
   ]
  },
  {
   "attachments": {},
   "cell_type": "markdown",
   "id": "f8ab7178",
   "metadata": {},
   "source": [
    "Le module python qui fait les calculs de pathloss du 3GPP. Veillez l'appeler ```calcul_pathloss_3gpp_eqn.py```"
   ]
  },
  {
   "attachments": {},
   "cell_type": "markdown",
   "id": "977de691",
   "metadata": {},
   "source": [
    "## Calcul de pathloss basés sur ces scénarios\n",
    "Faire des calculs de pathloss basés sur ces scénarios\n"
   ]
  },
  {
   "attachments": {},
   "cell_type": "markdown",
   "id": "8e6abdb6",
   "metadata": {},
   "source": [
    "## Association des UEs pour chaque antenne\n",
    "Pour chaque UE, montrer l'antenne associée"
   ]
  },
  {
   "attachments": {},
   "cell_type": "markdown",
   "id": "f96c7ecc",
   "metadata": {},
   "source": [
    "## Montrer la liste des UEs associés pour CHAQUE Antenne\n",
    "Pour chaque antenne, montrer la liste des UEs qu'y sont associés."
   ]
  },
  {
   "attachments": {},
   "cell_type": "markdown",
   "id": "225fb21c",
   "metadata": {},
   "source": [
    "## Fournir les fichiers suivants :\n"
   ]
  },
  {
   "attachments": {},
   "cell_type": "markdown",
   "id": "e1abb264",
   "metadata": {},
   "source": [
    "    Le fichier de cas utilisé, appelé ```cas_lab2_eqn.yaml```\n",
    "    Le fichier de coordonnées, appelé ```coords_lab2_eqn.txt``` (voir format dans section méthodologie)\n",
    "    Le fichier de visibilité, appelé ```visibility_lab2_eqn.txt``` (voir format dans exemple ci-dessus)\n",
    "    Un fichier d'association, appelé ```assoc_ant_lab2_eqn.txt``` qui montre pour chaque antenne, la liste des UEs associées (voir format dans livrables Lab1)\n",
    "    Un fichier d'association, appelé ```assoc_ue_lab2_eqn.txt``` qui montre pour chaque UE, l'antenne associé\n",
    "    Le fichier de pathloss, appelé ```pl_lab2_eqn.txt```  qui montre le pathloss pour chaque UE et antenne  (voir format dans livrables Lab1)"
   ]
  }
 ],
 "metadata": {
  "kernelspec": {
   "display_name": "Python 3",
   "language": "python",
   "name": "python3"
  },
  "language_info": {
   "codemirror_mode": {
    "name": "ipython",
    "version": 3
   },
   "file_extension": ".py",
   "mimetype": "text/x-python",
   "name": "python",
   "nbconvert_exporter": "python",
   "pygments_lexer": "ipython3",
   "version": "3.8.0"
  },
  "vscode": {
   "interpreter": {
    "hash": "cac6f8704574c1dfcdc535e7d573c5e6319c3e26693cb116916dc504b937d265"
   }
  }
 },
 "nbformat": 4,
 "nbformat_minor": 5
}
